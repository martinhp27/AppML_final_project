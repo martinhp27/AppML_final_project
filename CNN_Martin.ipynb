{
 "cells": [
  {
   "cell_type": "markdown",
   "metadata": {},
   "source": [
    "### Important packages"
   ]
  },
  {
   "cell_type": "code",
   "execution_count": 3,
   "metadata": {},
   "outputs": [],
   "source": [
    "# General packages\n",
    "import sys\n",
    "import numpy as np\n",
    "import matplotlib.pyplot as plt\n",
    "import pandas as pd\n",
    "from pandas import Series, DataFrame \n",
    "import h5py\n",
    "import seaborn as sns\n",
    "import tensorflow as tf\n",
    "\n",
    "# Numerical packages\n",
    "import matplotlib\n",
    "import sklearn\n",
    "import itertools\n",
    "from tqdm import tqdm\n",
    "from scipy import stats, integrate\n",
    "from scipy.optimize import curve_fit\n",
    "import scipy.constants as const\n",
    "from numpy.linalg import inv\n",
    "\n",
    "# Import KDE\n",
    "from sklearn.neighbors import KernelDensity\n",
    "\n",
    "# MCMC\n",
    "import emcee\n",
    "\n",
    "# Splines\n",
    "from scipy.interpolate import interp1d, BSpline, PchipInterpolator\n",
    "#from csaps import csaps\n",
    "\n",
    "# Nested sampling\n",
    "import nestle\n",
    "\n",
    "# Boosted decision tree packages\n",
    "from sklearn.ensemble import AdaBoostClassifier\n",
    "from sklearn.metrics import confusion_matrix\n",
    "from sklearn.model_selection import train_test_split\n",
    "from sklearn.metrics import classification_report\n",
    "from sklearn.tree import DecisionTreeClassifier\n",
    "import lightgbm as lgb \n",
    "import xgboost as xgb \n",
    "from sklearn.metrics import accuracy_score, auc\n",
    "from sklearn.metrics import mean_squared_error\n",
    "import shap\n",
    "\n",
    "# Neural network\n",
    "from keras.models import Sequential\n",
    "from keras.layers import Dense\n",
    "import keras\n",
    "from sklearn.inspection import permutation_importance\n",
    "from keras.layers.core import Dense, Dropout, Flatten\n",
    "from keras.optimizers import SGD\n",
    "from keras.layers import Dropout\n",
    "from keras.models import Sequential\n",
    "from keras.layers import Conv2D, MaxPooling2D, Flatten, Dense, Dropout\n",
    "from keras.losses import categorical_crossentropy\n",
    "from keras.optimizers import Adadelta\n",
    "\n",
    "#import tensorflow as tf\n",
    "#tf.compat.v1.logging.set_verbosity(tf.compat.v1.logging.ERROR)\n",
    "\n",
    "# Random Forets\n",
    "from sklearn.ensemble import RandomForestClassifier\n",
    "from sklearn.ensemble import ExtraTreesClassifier\n",
    "from sklearn.tree import DecisionTreeClassifier\n",
    "from sklearn.model_selection import cross_val_score # for cross-validation\n",
    "\n",
    "\n",
    "# Baysian optimization \n",
    "from bayes_opt import BayesianOptimization\n",
    "\n",
    "\n",
    "# Random search\n",
    "from sklearn.model_selection import RandomizedSearchCV, KFold\n",
    "\n",
    "# Data preprocessing \n",
    "from sklearn.preprocessing import LabelEncoder,OneHotEncoder, StandardScaler\n",
    "from datetime import datetime \n",
    "import time\n",
    "\n",
    "# Fit og plot packages\n",
    "from iminuit import Minuit\n",
    "# sys.path.append('C:/Users/marti/Google Drev/Uni/Pyhton/External_Functions')\n",
    "# from ExternalFunctions import Chi2Regression, BinnedLH, UnbinnedLH\n",
    "# from ExternalFunctions import nice_string_output, add_text_to_ax    # Useful functions to print fit results on figure"
   ]
  },
  {
   "cell_type": "markdown",
   "metadata": {},
   "source": [
    "### Pretty plotting routines"
   ]
  },
  {
   "cell_type": "code",
   "execution_count": 4,
   "metadata": {},
   "outputs": [],
   "source": [
    "def reset_plt(ticksize,fontsize):\n",
    "    plt.style.use('seaborn-white')\n",
    "    plt.rcParams['xtick.labelsize'] = ticksize\n",
    "    plt.rcParams['ytick.labelsize'] = ticksize\n",
    "    plt.rcParams['font.size'] = fontsize\n",
    "    plt.rcParams['mathtext.fontset'] = 'stix'\n",
    "    plt.rcParams['font.family'] = 'STIXGeneral'\n",
    "    plt.rcParams['legend.facecolor'] = 'white'\n",
    "    #plt.rcParams['axes.formatter.limits'] = (-1,3)\n",
    "    #plt.rcParams['axes.linewidth'] = 2.25\n",
    "    \n",
    "\n",
    "def put_ticks(this_fig,this_ax):\n",
    "    this_ax.xaxis.set_tick_params(which = 'major', direction = 'in', width = 2.5, length = 12, zorder = 1, top = True)\n",
    "    this_ax.yaxis.set_tick_params(which = 'major', direction = 'in', width = 2.5, length = 12, zorder = 1, right = True)\n",
    "    this_ax.xaxis.set_tick_params(which = 'minor', direction = 'in', width = 1.5, length = 6, zorder = 1, top = True)\n",
    "    this_ax.yaxis.set_tick_params(which = 'minor', direction = 'in', width = 1.5, length = 6, zorder = 1, right = True)\n",
    "    dx = -3/72\n",
    "    dy = -3/72\n",
    "    y_offset = matplotlib.transforms.ScaledTranslation(0, dy, this_fig.dpi_scale_trans)\n",
    "    x_offset = matplotlib.transforms.ScaledTranslation(dx, 0, this_fig.dpi_scale_trans)\n",
    "\n",
    "    for label in this_ax.xaxis.get_majorticklabels():\n",
    "        label.set_transform(label.get_transform() + y_offset)\n",
    "\n",
    "    for label in this_ax.yaxis.get_majorticklabels():\n",
    "        label.set_transform(label.get_transform() + x_offset)"
   ]
  },
  {
   "cell_type": "markdown",
   "metadata": {},
   "source": [
    "### Import data "
   ]
  },
  {
   "cell_type": "code",
   "execution_count": 14,
   "metadata": {},
   "outputs": [
    {
     "data": {
      "text/plain": [
       "(3000, 256, 256)"
      ]
     },
     "execution_count": 14,
     "metadata": {},
     "output_type": "execute_result"
    }
   ],
   "source": [
    "data = np.load('data_codingset_onelist.npz')\n",
    "\n",
    "data['data'].shape"
   ]
  }
 ],
 "metadata": {
  "kernelspec": {
   "display_name": "Python 3",
   "language": "python",
   "name": "python3"
  },
  "language_info": {
   "codemirror_mode": {
    "name": "ipython",
    "version": 3
   },
   "file_extension": ".py",
   "mimetype": "text/x-python",
   "name": "python",
   "nbconvert_exporter": "python",
   "pygments_lexer": "ipython3",
   "version": "3.8.8"
  }
 },
 "nbformat": 4,
 "nbformat_minor": 4
}
