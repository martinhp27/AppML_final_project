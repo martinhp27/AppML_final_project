{
 "cells": [
  {
   "cell_type": "code",
   "execution_count": 14,
   "metadata": {},
   "outputs": [],
   "source": [
    "# Import standard libraries:\n",
    "import numpy as np\n",
    "import matplotlib.pyplot as plt\n",
    "%matplotlib inline\n",
    "import seaborn as sns\n",
    "sns.set_style(\"darkgrid\")\n",
    "import pandas as pd\n",
    "\n",
    "import glob\n",
    "from PIL import Image\n",
    "\n",
    "\n",
    "#MetaData = pd.read_csv(\"./trai\")"
   ]
  },
  {
   "cell_type": "code",
   "execution_count": 21,
   "metadata": {},
   "outputs": [
    {
     "name": "stderr",
     "output_type": "stream",
     "text": [
      "IOPub data rate exceeded.\n",
      "The notebook server will temporarily stop sending output\n",
      "to the client in order to avoid crashing it.\n",
      "To change this limit, set the config variable\n",
      "`--NotebookApp.iopub_data_rate_limit`.\n",
      "\n",
      "Current values:\n",
      "NotebookApp.iopub_data_rate_limit=1000000.0 (bytes/sec)\n",
      "NotebookApp.rate_limit_window=3.0 (secs)\n",
      "\n"
     ]
    },
    {
     "name": "stdout",
     "output_type": "stream",
     "text": [
      "['/home/kristine/Documents/AppML_final_project/GRIP_raw/GRIP_3046_0_20_1/GRIP_3046_0_20_1_1.png'\n",
      " '/home/kristine/Documents/AppML_final_project/GRIP_raw/GRIP_3046_0_20_1/GRIP_3046_0_20_1_10.png'\n",
      " '/home/kristine/Documents/AppML_final_project/GRIP_raw/GRIP_3046_0_20_1/GRIP_3046_0_20_1_100.png'\n",
      " ...\n",
      " '/home/kristine/Documents/AppML_final_project/GRIP_raw/GRIP_3046_0_20_1/GRIP_3046_0_20_1_9997.png'\n",
      " '/home/kristine/Documents/AppML_final_project/GRIP_raw/GRIP_3046_0_20_1/GRIP_3046_0_20_1_9998.png'\n",
      " '/home/kristine/Documents/AppML_final_project/GRIP_raw/GRIP_3046_0_20_1/GRIP_3046_0_20_1_9999.png']\n"
     ]
    }
   ],
   "source": [
    "N = 64\n",
    "\n",
    "path = [\"GRIP_3046_0_20_1\"]#,\"GRIP_3046_20_40_1\",\"GRIP_3046_40_55_1\"]#,\"GRIP_3136_0_20_1\", \"GRIP_3136_20_40_1\",\"GRIP_3136_40_55_1\",\"GRIP_3303_0_20_1\", \"GRIP_3303_20_40_1\", \"GRIP_3303_40_55_1\", \"GRIP_3306_0_20_1\", \"GRIP_3306_20_40_1\", \"GRIP_3306_40_55_1\"]\n",
    "\n",
    "\n",
    "\n",
    "files1 = glob.glob(\"/home/kristine/Documents/AppML_final_project/GRIP_raw/\"+path[0]+\"/*.png\")\n",
    "print(files1)\n",
    "files1 = np.sort(files1, kind='quicksort')\n",
    "print(files1)\n",
    "files1 = files1#[:200]\n",
    "data_raw1 = np.zeros((len(files1),N,N), dtype=np.uint8)\n",
    "for i in range(len(files1)):\n",
    "    im = Image.open(files1[i]).resize((N,N))\n",
    "    data_raw1[i] = np.asarray(im, dtype=np.uint8)\n",
    "\n",
    "print(files1)"
   ]
  },
  {
   "cell_type": "code",
   "execution_count": null,
   "metadata": {},
   "outputs": [],
   "source": []
  },
  {
   "cell_type": "code",
   "execution_count": 17,
   "metadata": {},
   "outputs": [],
   "source": [
    "names1 = pd.DataFrame(files1)\n"
   ]
  },
  {
   "cell_type": "code",
   "execution_count": 19,
   "metadata": {},
   "outputs": [
    {
     "ename": "IndexError",
     "evalue": "list index out of range",
     "output_type": "error",
     "traceback": [
      "\u001b[0;31m---------------------------------------------------------------------------\u001b[0m",
      "\u001b[0;31mIndexError\u001b[0m                                Traceback (most recent call last)",
      "\u001b[0;32m<ipython-input-19-5e31df70e0df>\u001b[0m in \u001b[0;36m<module>\u001b[0;34m\u001b[0m\n\u001b[0;32m----> 1\u001b[0;31m \u001b[0mfiles2\u001b[0m \u001b[0;34m=\u001b[0m \u001b[0mglob\u001b[0m\u001b[0;34m.\u001b[0m\u001b[0mglob\u001b[0m\u001b[0;34m(\u001b[0m\u001b[0;34m\"GRIP_raw/\"\u001b[0m\u001b[0;34m+\u001b[0m\u001b[0mpath\u001b[0m\u001b[0;34m[\u001b[0m\u001b[0;36m1\u001b[0m\u001b[0;34m]\u001b[0m\u001b[0;34m+\u001b[0m\u001b[0;34m\"/*.png\"\u001b[0m\u001b[0;34m)\u001b[0m\u001b[0;34m\u001b[0m\u001b[0;34m\u001b[0m\u001b[0m\n\u001b[0m\u001b[1;32m      2\u001b[0m \u001b[0mfiles2\u001b[0m \u001b[0;34m=\u001b[0m \u001b[0mnp\u001b[0m\u001b[0;34m.\u001b[0m\u001b[0msort\u001b[0m\u001b[0;34m(\u001b[0m\u001b[0mfiles2\u001b[0m\u001b[0;34m,\u001b[0m \u001b[0mkind\u001b[0m\u001b[0;34m=\u001b[0m\u001b[0;34m'quicksort'\u001b[0m\u001b[0;34m)\u001b[0m\u001b[0;34m\u001b[0m\u001b[0;34m\u001b[0m\u001b[0m\n\u001b[1;32m      3\u001b[0m \u001b[0mprint\u001b[0m\u001b[0;34m(\u001b[0m\u001b[0mfiles2\u001b[0m\u001b[0;34m)\u001b[0m\u001b[0;34m\u001b[0m\u001b[0;34m\u001b[0m\u001b[0m\n\u001b[1;32m      4\u001b[0m \u001b[0mfiles2\u001b[0m \u001b[0;34m=\u001b[0m \u001b[0mfiles2\u001b[0m\u001b[0;31m#[:200]\u001b[0m\u001b[0;34m\u001b[0m\u001b[0;34m\u001b[0m\u001b[0m\n\u001b[1;32m      5\u001b[0m \u001b[0mdata_raw2\u001b[0m \u001b[0;34m=\u001b[0m \u001b[0mnp\u001b[0m\u001b[0;34m.\u001b[0m\u001b[0mzeros\u001b[0m\u001b[0;34m(\u001b[0m\u001b[0;34m(\u001b[0m\u001b[0mlen\u001b[0m\u001b[0;34m(\u001b[0m\u001b[0mfiles2\u001b[0m\u001b[0;34m)\u001b[0m\u001b[0;34m,\u001b[0m\u001b[0mN\u001b[0m\u001b[0;34m,\u001b[0m\u001b[0mN\u001b[0m\u001b[0;34m)\u001b[0m\u001b[0;34m,\u001b[0m \u001b[0mdtype\u001b[0m\u001b[0;34m=\u001b[0m\u001b[0mnp\u001b[0m\u001b[0;34m.\u001b[0m\u001b[0muint8\u001b[0m\u001b[0;34m)\u001b[0m\u001b[0;34m\u001b[0m\u001b[0;34m\u001b[0m\u001b[0m\n",
      "\u001b[0;31mIndexError\u001b[0m: list index out of range"
     ]
    }
   ],
   "source": [
    "files2 = glob.glob(\"GRIP_raw/\"+path[1]+\"/*.png\")\n",
    "files2 = np.sort(files2, kind='quicksort')\n",
    "print(files2)\n",
    "files2 = files2#[:200]\n",
    "data_raw2 = np.zeros((len(files2),N,N), dtype=np.uint8)\n",
    "for i in range(len(files2)):\n",
    "    im = Image.open(files2[i]).resize((N,N))\n",
    "    data_raw2[i] = np.asarray(im, dtype=np.uint8)\n",
    "\n",
    "print(len(data_raw2))"
   ]
  },
  {
   "cell_type": "code",
   "execution_count": null,
   "metadata": {},
   "outputs": [],
   "source": []
  },
  {
   "cell_type": "code",
   "execution_count": 12,
   "metadata": {},
   "outputs": [
    {
     "ename": "IndexError",
     "evalue": "list index out of range",
     "output_type": "error",
     "traceback": [
      "\u001b[0;31m---------------------------------------------------------------------------\u001b[0m",
      "\u001b[0;31mIndexError\u001b[0m                                Traceback (most recent call last)",
      "\u001b[0;32m<ipython-input-12-4c9c97cd8080>\u001b[0m in \u001b[0;36m<module>\u001b[0;34m\u001b[0m\n\u001b[0;32m----> 1\u001b[0;31m \u001b[0mfiles3\u001b[0m \u001b[0;34m=\u001b[0m \u001b[0mglob\u001b[0m\u001b[0;34m.\u001b[0m\u001b[0mglob\u001b[0m\u001b[0;34m(\u001b[0m\u001b[0;34m\"GRIP_raw/\"\u001b[0m\u001b[0;34m+\u001b[0m\u001b[0mpath\u001b[0m\u001b[0;34m[\u001b[0m\u001b[0;36m2\u001b[0m\u001b[0;34m]\u001b[0m\u001b[0;34m+\u001b[0m\u001b[0;34m\"/*.png\"\u001b[0m\u001b[0;34m)\u001b[0m\u001b[0;34m\u001b[0m\u001b[0;34m\u001b[0m\u001b[0m\n\u001b[0m\u001b[1;32m      2\u001b[0m \u001b[0mfiles3\u001b[0m \u001b[0;34m=\u001b[0m \u001b[0mnp\u001b[0m\u001b[0;34m.\u001b[0m\u001b[0msort\u001b[0m\u001b[0;34m(\u001b[0m\u001b[0mfiles3\u001b[0m\u001b[0;34m,\u001b[0m \u001b[0mkind\u001b[0m\u001b[0;34m=\u001b[0m\u001b[0;34m'quicksort'\u001b[0m\u001b[0;34m)\u001b[0m\u001b[0;34m\u001b[0m\u001b[0;34m\u001b[0m\u001b[0m\n\u001b[1;32m      3\u001b[0m \u001b[0mprint\u001b[0m\u001b[0;34m(\u001b[0m\u001b[0mfiles3\u001b[0m\u001b[0;34m)\u001b[0m\u001b[0;34m\u001b[0m\u001b[0;34m\u001b[0m\u001b[0m\n\u001b[1;32m      4\u001b[0m \u001b[0mfiles3\u001b[0m \u001b[0;34m=\u001b[0m \u001b[0mfiles3\u001b[0m\u001b[0;31m#[:200]\u001b[0m\u001b[0;34m\u001b[0m\u001b[0;34m\u001b[0m\u001b[0m\n\u001b[1;32m      5\u001b[0m \u001b[0mdata_raw3\u001b[0m \u001b[0;34m=\u001b[0m \u001b[0mnp\u001b[0m\u001b[0;34m.\u001b[0m\u001b[0mzeros\u001b[0m\u001b[0;34m(\u001b[0m\u001b[0;34m(\u001b[0m\u001b[0mlen\u001b[0m\u001b[0;34m(\u001b[0m\u001b[0mfiles3\u001b[0m\u001b[0;34m)\u001b[0m\u001b[0;34m,\u001b[0m\u001b[0mN\u001b[0m\u001b[0;34m,\u001b[0m\u001b[0mN\u001b[0m\u001b[0;34m)\u001b[0m\u001b[0;34m,\u001b[0m \u001b[0mdtype\u001b[0m\u001b[0;34m=\u001b[0m\u001b[0mnp\u001b[0m\u001b[0;34m.\u001b[0m\u001b[0muint8\u001b[0m\u001b[0;34m)\u001b[0m\u001b[0;34m\u001b[0m\u001b[0;34m\u001b[0m\u001b[0m\n",
      "\u001b[0;31mIndexError\u001b[0m: list index out of range"
     ]
    }
   ],
   "source": [
    "files3 = glob.glob(\"GRIP_raw/\"+path[2]+\"/*.png\")\n",
    "files3 = np.sort(files3, kind='quicksort')\n",
    "print(files3)\n",
    "files3 = files3#[:200]\n",
    "data_raw3 = np.zeros((len(files3),N,N), dtype=np.uint8)\n",
    "for i in range(len(files3)):\n",
    "    im = Image.open(files3[i]).resize((N,N))\n",
    "    data_raw3[i] = np.asarray(im, dtype=np.uint8)\n",
    "\n",
    "print(len(data_raw3))\n",
    "\n",
    "length = len(data_raw1)+len(data_raw2)+len(data_raw3)\n",
    "print(length)"
   ]
  },
  {
   "cell_type": "code",
   "execution_count": 22,
   "metadata": {},
   "outputs": [
    {
     "name": "stdout",
     "output_type": "stream",
     "text": [
      "[array([[0.06      , 0.        , 1.        , ..., 0.01091299, 0.01091299,\n",
      "        0.28      ],\n",
      "       [4.36      , 4.36      , 0.94      , ..., 6.849509  , 8.151848  ,\n",
      "        2.34      ],\n",
      "       [0.08      , 0.08      , 0.        , ..., 0.01567867, 0.03356812,\n",
      "        0.28      ],\n",
      "       ...,\n",
      "       [0.21      , 0.21      , 0.66      , ..., 0.07150034, 0.09209839,\n",
      "        0.43      ],\n",
      "       [0.57      , 0.57      , 0.9       , ..., 0.3220334 , 0.3754204 ,\n",
      "        0.83      ],\n",
      "       [3.87      , 3.87      , 0.64      , ..., 5.724967  , 8.075991  ,\n",
      "        1.51      ]])]\n"
     ]
    }
   ],
   "source": [
    "MetaPath = [\"GRIP_3046_raw.csv\"]\n",
    "\n",
    "MetaData = []\n",
    "todrop = ['Particle ID',\n",
    "          'Calibration Factor',\n",
    "          'Calibration Image',\n",
    "          'Camera',\n",
    "          'Capture X',\n",
    "          'Capture Y',\n",
    "          'Date',\n",
    "          'Elapsed Time',\n",
    "          'Filter Score',\n",
    "          'Image File',\n",
    "          'Image Height',\n",
    "          'Image Width',\n",
    "          'Image X',\n",
    "          'Image Y',\n",
    "          'Source Image',\n",
    "          'Time',\n",
    "          'Timestamp',\n",
    "          'imgpaths',\n",
    "          'Sample'\n",
    "         ]\n",
    "for i in range(len(MetaPath)):\n",
    "    Data = pd.read_csv(\"./GRIP_raw/{}\".format(MetaPath[i]))\n",
    "    Data = Data.sort_values('imgpaths')\n",
    "    Data = Data.drop(columns = todrop)\n",
    "    Data = Data[:len(files1)]\n",
    "    MetaData.append(Data.to_numpy())\n",
    "\n",
    "\n",
    "print(MetaData)\n"
   ]
  },
  {
   "cell_type": "code",
   "execution_count": 23,
   "metadata": {},
   "outputs": [],
   "source": [
    "\n",
    "test_img = data_raw1\n",
    "test_meta = MetaData\n",
    "\n",
    "NoP = len(files1)\n",
    "\n",
    "label_test = np.concatenate((np.zeros((1,NoP)), np.ones((1,NoP))), axis=1)  \n",
    "\n",
    "\n",
    "np.savez_compressed('test_ice_core.npz', test_img=test_img, test_meta = test_meta)"
   ]
  },
  {
   "cell_type": "code",
   "execution_count": 24,
   "metadata": {},
   "outputs": [
    {
     "name": "stdout",
     "output_type": "stream",
     "text": [
      "63123\n",
      "63123\n"
     ]
    }
   ],
   "source": [
    "print(len(test_img))\n",
    "print(len(*test_meta))"
   ]
  },
  {
   "cell_type": "code",
   "execution_count": null,
   "metadata": {},
   "outputs": [],
   "source": [
    "\n",
    "#data_trail = np.load('test_ice_core.npz',allow_pickle = True)\n",
    "\n",
    "#data_trail['test_img']"
   ]
  },
  {
   "cell_type": "code",
   "execution_count": null,
   "metadata": {},
   "outputs": [],
   "source": []
  }
 ],
 "metadata": {
  "kernelspec": {
   "display_name": "Python 3",
   "language": "python",
   "name": "python3"
  },
  "language_info": {
   "codemirror_mode": {
    "name": "ipython",
    "version": 3
   },
   "file_extension": ".py",
   "mimetype": "text/x-python",
   "name": "python",
   "nbconvert_exporter": "python",
   "pygments_lexer": "ipython3",
   "version": "3.8.5"
  }
 },
 "nbformat": 4,
 "nbformat_minor": 4
}
