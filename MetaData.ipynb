{
 "cells": [
  {
   "cell_type": "code",
   "execution_count": 2,
   "metadata": {},
   "outputs": [],
   "source": [
    "import numpy as np\n",
    "import pandas as pd\n",
    "import matplotlib.pyplot as plt\n",
    "\n",
    "data = np.load('data_codingset_pollen.npz')"
   ]
  },
  {
   "cell_type": "code",
   "execution_count": 3,
   "metadata": {},
   "outputs": [
    {
     "name": "stdout",
     "output_type": "stream",
     "text": [
      "[[0. 0. 0. ... 2. 2. 2.]]\n"
     ]
    }
   ],
   "source": [
    "## The different sections in the file are called, data_camp, data_cory, data_dust, data_grim, data_qro and data_qsu\n",
    "\n",
    "print(data['label'])"
   ]
  },
  {
   "cell_type": "code",
   "execution_count": 4,
   "metadata": {},
   "outputs": [],
   "source": [
    "MetaData = pd.read_csv(\"./train/train.csv\")"
   ]
  },
  {
   "cell_type": "code",
   "execution_count": 5,
   "metadata": {},
   "outputs": [
    {
     "data": {
      "text/plain": [
       "Index(['Particle ID', 'Area (ABD)', 'Area (Filled)', 'Aspect Ratio',\n",
       "       'Biovolume (Cylinder)', 'Biovolume (P. Spheroid)', 'Biovolume (Sphere)',\n",
       "       'Calibration Factor', 'Calibration Image', 'Camera', 'Capture X',\n",
       "       'Capture Y', 'Circle Fit', 'Circularity', 'Circularity (Hu)',\n",
       "       'Compactness', 'Convex Perimeter', 'Convexity', 'Date',\n",
       "       'Diameter (ABD)', 'Diameter (ESD)', 'Edge Gradient', 'Elapsed Time',\n",
       "       'Elongation', 'Feret Angle Max', 'Feret Angle Min', 'Fiber Curl',\n",
       "       'Fiber Straightness', 'Filter Score', 'Geodesic Aspect Ratio',\n",
       "       'Geodesic Length', 'Geodesic Thickness', 'Image File', 'Image Height',\n",
       "       'Image Width', 'Image X', 'Image Y', 'Intensity', 'Length',\n",
       "       'Particles Per Chain', 'Perimeter', 'Roughness', 'Sigma Intensity',\n",
       "       'Source Image', 'Sphere Complement', 'Sphere Count', 'Sphere Unknown',\n",
       "       'Sphere Volume', 'Sum Intensity', 'Symmetry', 'Time', 'Timestamp',\n",
       "       'Transparency', 'Volume (ABD)', 'Volume (ESD)', 'Width', 'imgpaths',\n",
       "       'camp', 'corylus', 'dust', 'grim', 'qrob', 'qsub'],\n",
       "      dtype='object')"
      ]
     },
     "execution_count": 5,
     "metadata": {},
     "output_type": "execute_result"
    }
   ],
   "source": [
    "MetaData.keys()"
   ]
  },
  {
   "cell_type": "code",
   "execution_count": null,
   "metadata": {},
   "outputs": [],
   "source": []
  },
  {
   "cell_type": "code",
   "execution_count": null,
   "metadata": {},
   "outputs": [],
   "source": []
  }
 ],
 "metadata": {
  "kernelspec": {
   "display_name": "Python 3",
   "language": "python",
   "name": "python3"
  },
  "language_info": {
   "codemirror_mode": {
    "name": "ipython",
    "version": 3
   },
   "file_extension": ".py",
   "mimetype": "text/x-python",
   "name": "python",
   "nbconvert_exporter": "python",
   "pygments_lexer": "ipython3",
   "version": "3.7.10"
  }
 },
 "nbformat": 4,
 "nbformat_minor": 4
}
