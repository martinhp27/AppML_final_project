{
 "cells": [
  {
   "cell_type": "markdown",
   "metadata": {},
   "source": [
    "# Introduction to a Convolutional NN - classifying handwritten numbers:\n",
    "\n",
    "For a long time, images were inaccesible to computers and ML algorithms. However, at the turn of the century very fast development - a slow revolution - happened, and the usage of Convolutional Neural Networks (CNNs) became computationally feasible. The advent of Graphical Processing Units (GPUs) also help propel the sharp rise in ML image analysis capabilities.\n",
    "\n",
    "Through first the MNIST database (1998-2004), and then the PASCAL (2005-2010) and ImageNet (2010-2017) competitions, CNN code developed to become capable of classifying the content of images. The following is an exercise, which uses the famous MNIST dataset, containing about 70000 images of handwritten digits, reduced (and anti-aliased) to 28-by-28 pixel black-and-write images.\n",
    "\n",
    "The CNN applied filters to these images, and then concatenates (i.e. \"boils down\") the images to lower resolution. This process is repeated, and finally the resulting pixel values are fed to a normal Neural Network, and made to provide an output, which lowers the loss function (in this case getting the value of the digit right). Through backpropagation, the filter values and the NN parameters are optimised, and thus in the end, the CNN becomes capable of evaluating images.\n",
    "\n",
    "The code and comments below is meant to be part illustration, part exercise.\n",
    "\n",
    "***\n",
    "\n",
    "Authors: Carl Johnsen & Troels Petersen\n",
    "\n",
    "Emails: cjjohnsen@nbi.ku.dk & petersen@nbi.dk\n",
    "\n",
    "Date: 15th of May 2021 (latest version)"
   ]
  },
  {
   "cell_type": "code",
   "execution_count": 2,
   "metadata": {},
   "outputs": [],
   "source": [
    "# Import standard libraries:\n",
    "import numpy as np\n",
    "import matplotlib.pyplot as plt\n",
    "%matplotlib inline\n",
    "import seaborn as sns\n",
    "sns.set_style(\"darkgrid\")\n",
    "import pandas as pd\n",
    "\n",
    "import glob\n",
    "from PIL import Image\n"
   ]
  },
  {
   "cell_type": "code",
   "execution_count": 31,
   "metadata": {},
   "outputs": [
    {
     "data": {
      "text/plain": [
       "array([[158, 158, 156, ..., 151, 149, 149],\n",
       "       [158, 165, 149, ..., 158, 149, 149],\n",
       "       [156, 156, 149, ..., 142, 149, 149],\n",
       "       ...,\n",
       "       [160, 160, 160, ..., 151, 151, 151],\n",
       "       [160, 160, 160, ..., 142, 142, 151],\n",
       "       [160, 160, 160, ..., 149, 149, 151]], dtype=uint8)"
      ]
     },
     "execution_count": 31,
     "metadata": {},
     "output_type": "execute_result"
    }
   ],
   "source": [
    "from PIL import Image, ImageEnhance\n",
    "imf ='train/campanian/camp_11nov_4_fc80_20x_1000.png'\n",
    "\n",
    "def MakeImage(fname, contrast=1, sharpness=1, num=0, N=256):\n",
    "    image1 = Image.open(fname).resize((N,N))\n",
    "    image2 = ImageEnhance.Contrast(image1).enhance(contrast)\n",
    "    image3 = ImageEnhance.Sharpness(image2).enhance(sharpness)\n",
    "    if num == 1:\n",
    "        image3 = np.array(image3)\n",
    "    return image3\n",
    "MakeImage(imf, 1.8, 8, 1)"
   ]
  },
  {
   "cell_type": "code",
   "execution_count": null,
   "metadata": {},
   "outputs": [],
   "source": []
  },
  {
   "cell_type": "code",
   "execution_count": 28,
   "metadata": {},
   "outputs": [],
   "source": [
    "N = 256\n",
    "split = 500\n",
    "\n",
    "path = [\"campanian\",\"corylus\",\"dust\",\"grimsvotn\",\"qrobur\",\"qsuber\"]\n",
    "\n",
    "files1 = glob.glob('train/'+path[0]+'/*.png')\n",
    "files1 = files1[:split]\n",
    "data_camp = np.zeros((len(files1),N,N), dtype=np.uint8)\n",
    "for i in range(len(files1)):\n",
    "    im = MakeImage(files1[i], 1.8, 8, 1)\n",
    "    data_camp[i] = np.asarray(im, dtype=np.uint8)"
   ]
  },
  {
   "cell_type": "code",
   "execution_count": 30,
   "metadata": {},
   "outputs": [
    {
     "data": {
      "text/plain": [
       "(500, 256, 256)"
      ]
     },
     "execution_count": 30,
     "metadata": {},
     "output_type": "execute_result"
    }
   ],
   "source": []
  },
  {
   "cell_type": "code",
   "execution_count": null,
   "metadata": {},
   "outputs": [],
   "source": []
  },
  {
   "cell_type": "code",
   "execution_count": 11,
   "metadata": {},
   "outputs": [
    {
     "data": {
      "image/png": "[encoded data removed]",
      "text/plain": [
       "<PIL.Image.Image image mode=L size=84x138 at 0x7FACA16D9CA0>"
      ]
     },
     "execution_count": 11,
     "metadata": {},
     "output_type": "execute_result"
    }
   ],
   "source": [
    "from PIL import ImageEnhance\n",
    "\n",
    "im = Image.open('train/campanian/camp_11nov_4_fc80_20x_201.png')\n",
    "\n",
    "enh = ImageEnhance.Sharpness(im)\n",
    "enh.enhance(2)"
   ]
  },
  {
   "cell_type": "code",
   "execution_count": null,
   "metadata": {},
   "outputs": [],
   "source": []
  },
  {
   "cell_type": "code",
   "execution_count": 32,
   "metadata": {},
   "outputs": [],
   "source": [
    "files2 = glob.glob('train/'+path[1]+'/*.png')\n",
    "files2 = files2[:split]\n",
    "data_cory = np.zeros((len(files2),N,N), dtype=np.uint8)\n",
    "for i in range(len(files2)):\n",
    "    im = MakeImage(files2[i], 1.8, 8, 1)\n",
    "    data_cory[i] = np.asarray(im, dtype=np.uint8)"
   ]
  },
  {
   "cell_type": "code",
   "execution_count": 33,
   "metadata": {},
   "outputs": [],
   "source": [
    "files3 = glob.glob('train/'+path[2]+'/*.png')\n",
    "files3 = files3[:split]\n",
    "data_dust = np.zeros((len(files3),N,N), dtype=np.uint8)\n",
    "for i in range(len(files3)):\n",
    "    im = MakeImage(files3[i], 1.8, 8, 1)\n",
    "    data_dust[i] = np.asarray(im,dtype=np.uint8)"
   ]
  },
  {
   "cell_type": "code",
   "execution_count": 34,
   "metadata": {},
   "outputs": [],
   "source": [
    "files4 = glob.glob('train/'+path[3]+'/*.png')\n",
    "files4 = files4[:split]\n",
    "data_grim = np.zeros((len(files4),N,N),dtype=np.uint8)\n",
    "for i in range(len(files4)):\n",
    "    im = MakeImage(files4[i], 1.8, 8, 1)\n",
    "    data_grim[i] = np.asarray(im, dtype=np.uint8)"
   ]
  },
  {
   "cell_type": "code",
   "execution_count": 35,
   "metadata": {},
   "outputs": [],
   "source": [
    "files5 = glob.glob('train/'+path[4]+'/*.png')\n",
    "files5 = files5[:split]\n",
    "data_qro = np.zeros((len(files5),N,N), dtype=np.uint8)\n",
    "for i in range(len(files5)):\n",
    "    im = MakeImage(files5[i], 1.8, 8, 1)\n",
    "    data_qro[i] = np.asarray(im, dtype=np.uint8)"
   ]
  },
  {
   "cell_type": "code",
   "execution_count": 36,
   "metadata": {},
   "outputs": [],
   "source": [
    "files6 = glob.glob('train/'+path[5]+'/*.png')\n",
    "files6 = files6[:split]\n",
    "data_qsu = np.zeros((len(files6),N,N), dtype=np.uint8)\n",
    "for i in range(len(files6)):\n",
    "    im = MakeImage(files6[i], 1.8, 8, 1)\n",
    "    data_qsu[i] = np.asarray(im, dtype=np.uint8)"
   ]
  },
  {
   "cell_type": "code",
   "execution_count": 8,
   "metadata": {},
   "outputs": [],
   "source": [
    "n = 0\n",
    "path = [\"campanian\",\"corylus\",\"dust\",\"grimsvotn\",\"qrobur\",\"qsuber\"]\n",
    "for i in path:\n",
    "    n += len(glob.glob('train/'+i+'/*.png'))"
   ]
  },
  {
   "cell_type": "code",
   "execution_count": 38,
   "metadata": {},
   "outputs": [],
   "source": [
    "camp = 0*np.ones((1,split)).T\n",
    "cory = np.ones((1,split)).T\n",
    "dust = 2*np.ones((1,split)).T\n",
    "grim = 3*np.ones((1,split)).T\n",
    "qro = 4*np.ones((1,split)).T\n",
    "qso = 5*np.ones((1,split)).T\n",
    "\n",
    "labels = np.vstack([camp, cory, dust, grim, qro, qso])"
   ]
  },
  {
   "cell_type": "code",
   "execution_count": 44,
   "metadata": {},
   "outputs": [],
   "source": [
    "data = np.vstack((data_camp, data_cory, data_dust, data_grim, data_qro, data_qsu))\n",
    "\n",
    "#mapping = dict(names)\n",
    "        \n",
    "np.savez_compressed('data_codingset_onelist_sharpness_and_contrast.npz', data=data, labels=labels)"
   ]
  },
  {
   "cell_type": "code",
   "execution_count": 45,
   "metadata": {},
   "outputs": [],
   "source": [
    "data_test = np.load('data_codingset_onelist_sharpness_and_contrast.npz')"
   ]
  },
  {
   "cell_type": "code",
   "execution_count": 46,
   "metadata": {},
   "outputs": [
    {
     "data": {
      "text/plain": [
       "array([[0.],\n",
       "       [0.],\n",
       "       [0.],\n",
       "       ...,\n",
       "       [5.],\n",
       "       [5.],\n",
       "       [5.]])"
      ]
     },
     "execution_count": 46,
     "metadata": {},
     "output_type": "execute_result"
    }
   ],
   "source": [
    "data_test['labels']"
   ]
  },
  {
   "cell_type": "code",
   "execution_count": null,
   "metadata": {},
   "outputs": [],
   "source": []
  }
 ],
 "metadata": {
  "kernelspec": {
   "display_name": "Python 3",
   "language": "python",
   "name": "python3"
  },
  "language_info": {
   "codemirror_mode": {
    "name": "ipython",
    "version": 3
   },
   "file_extension": ".py",
   "mimetype": "text/x-python",
   "name": "python",
   "nbconvert_exporter": "python",
   "pygments_lexer": "ipython3",
   "version": "3.8.3"
  }
 },
 "nbformat": 4,
 "nbformat_minor": 4
}
