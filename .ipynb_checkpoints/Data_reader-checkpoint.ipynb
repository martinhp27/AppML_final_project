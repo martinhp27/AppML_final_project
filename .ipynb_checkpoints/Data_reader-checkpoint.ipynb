{
 "cells": [
  {
   "cell_type": "code",
   "execution_count": 1,
   "metadata": {},
   "outputs": [],
   "source": [
    "import numpy as np\n",
    "\n",
    "data = np.load('data_codingset_sublists.npz')"
   ]
  },
  {
   "cell_type": "code",
   "execution_count": 3,
   "metadata": {},
   "outputs": [
    {
     "name": "stdout",
     "output_type": "stream",
     "text": [
      "[[[139 139 139 ... 135 135 135]\n",
      "  [139 139 139 ... 135 135 135]\n",
      "  [139 139 139 ... 135 135 135]\n",
      "  ...\n",
      "  [139 139 139 ... 137 137 137]\n",
      "  [139 139 139 ... 137 137 137]\n",
      "  [139 139 139 ... 137 137 137]]\n",
      "\n",
      " [[123 123 123 ... 125 125 125]\n",
      "  [123 123 123 ... 125 125 125]\n",
      "  [123 123 123 ... 125 125 125]\n",
      "  ...\n",
      "  [115 115 115 ... 124 124 124]\n",
      "  [115 115 115 ... 124 124 124]\n",
      "  [115 115 115 ... 124 124 124]]\n",
      "\n",
      " [[132 132 132 ... 131 131 131]\n",
      "  [132 132 132 ... 131 131 131]\n",
      "  [132 132 132 ... 131 131 131]\n",
      "  ...\n",
      "  [131 131 131 ... 128 128 128]\n",
      "  [131 131 131 ... 128 128 128]\n",
      "  [131 131 131 ... 128 128 128]]\n",
      "\n",
      " ...\n",
      "\n",
      " [[120 120 120 ... 117 117 117]\n",
      "  [120 120 120 ... 117 117 117]\n",
      "  [120 120 120 ... 117 117 117]\n",
      "  ...\n",
      "  [113 113 113 ... 116 116 116]\n",
      "  [113 113 113 ... 116 116 116]\n",
      "  [113 113 113 ... 116 116 116]]\n",
      "\n",
      " [[133 133 134 ... 131 131 131]\n",
      "  [134 134 135 ... 130 131 131]\n",
      "  [134 134 135 ... 130 131 131]\n",
      "  ...\n",
      "  [131 131 132 ...  46  46  46]\n",
      "  [131 131 132 ...  46  46  46]\n",
      "  [131 131 131 ...  47  47  47]]\n",
      "\n",
      " [[129 129 129 ... 126 126 126]\n",
      "  [129 129 129 ... 126 126 126]\n",
      "  [129 129 129 ... 126 126 126]\n",
      "  ...\n",
      "  [131 131 131 ... 131 131 131]\n",
      "  [131 131 131 ... 131 131 131]\n",
      "  [131 131 131 ... 131 131 131]]]\n"
     ]
    }
   ],
   "source": [
    "## The different sections in the file are called, data_camp, data_cory, data_dust, data_grim, data_qro and data_qsu\n",
    "\n",
    "print(data['data_camp'])"
   ]
  },
  {
   "cell_type": "code",
   "execution_count": null,
   "metadata": {},
   "outputs": [],
   "source": []
  }
 ],
 "metadata": {
  "kernelspec": {
   "display_name": "Python 3",
   "language": "python",
   "name": "python3"
  },
  "language_info": {
   "codemirror_mode": {
    "name": "ipython",
    "version": 3
   },
   "file_extension": ".py",
   "mimetype": "text/x-python",
   "name": "python",
   "nbconvert_exporter": "python",
   "pygments_lexer": "ipython3",
   "version": "3.8.5"
  }
 },
 "nbformat": 4,
 "nbformat_minor": 4
}
