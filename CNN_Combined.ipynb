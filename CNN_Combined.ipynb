{
 "cells": [
  {
   "cell_type": "code",
   "execution_count": 44,
   "id": "cca11a14-3be5-4ff2-98bd-f2aff222ab26",
   "metadata": {},
   "outputs": [],
   "source": [
    "import numpy as np\n",
    "import matplotlib.pyplot as plt\n",
    "%matplotlib inline\n",
    "import seaborn as sns\n",
    "sns.set_style(\"darkgrid\")\n",
    "import pandas as pd\n",
    "import tensorflow.keras as keras\n",
    "from sklearn.metrics import roc_curve\n",
    "from sklearn.metrics import auc\n",
    "import tensorflow as tf"
   ]
  },
  {
   "cell_type": "code",
   "execution_count": 45,
   "id": "94370ac3-1c0b-4ef5-ac22-049fe1f34ebe",
   "metadata": {},
   "outputs": [],
   "source": [
    "data = np.load('data+meta.npz',allow_pickle = True)\n",
    "\n",
    "meta = np.array(data['meta'])\n",
    "# [\"campanian\",\"corylus\",\"dust\",\"grimsvotn\",\"qrobur\",\"qsuber\"]\n",
    "\n",
    "label = np.array(data['label'])\n",
    "data = np.array(data['data'])"
   ]
  },
  {
   "cell_type": "code",
   "execution_count": 46,
   "id": "ccd602d2-2e06-4d7b-bf33-e21761de0562",
   "metadata": {},
   "outputs": [
    {
     "name": "stdout",
     "output_type": "stream",
     "text": [
      "(12000, 39)\n",
      "(12000, 256, 256)\n",
      "(12000,)\n"
     ]
    }
   ],
   "source": [
    "print(meta.shape)\n",
    "print(data.shape)\n",
    "print(label.shape)"
   ]
  },
  {
   "cell_type": "code",
   "execution_count": 47,
   "id": "d57a7c40-ae84-4c22-a4ed-af4f647baeca",
   "metadata": {},
   "outputs": [],
   "source": [
    "def standardizeimg(img, mu, sigma):\n",
    "    return (img-mu)/(sigma).astype(np.float32)\n",
    "data =  standardizeimg(img=data, mu=np.mean(data), sigma=np.std(data))\n",
    "meta =  standardizeimg(img=meta, mu=np.mean(meta), sigma=np.std(meta))"
   ]
  },
  {
   "cell_type": "code",
   "execution_count": 48,
   "id": "80eafb89-56ea-48d8-a4ee-fb66e56dd7da",
   "metadata": {},
   "outputs": [],
   "source": [
    "data = data.reshape(data.shape[0], data.shape[1],data.shape[2], 1)"
   ]
  },
  {
   "cell_type": "code",
   "execution_count": 49,
   "id": "984a8e1b-ea0d-4983-b387-b10b71603e64",
   "metadata": {},
   "outputs": [
    {
     "name": "stdout",
     "output_type": "stream",
     "text": [
      "(12000, 256, 256, 1)\n",
      "(12000, 39)\n"
     ]
    }
   ],
   "source": [
    "data1 = [data,meta]\n",
    "print(data1[0].shape)\n",
    "print(data1[1].shape)"
   ]
  },
  {
   "cell_type": "code",
   "execution_count": 50,
   "id": "3116ec86-4cc7-4b90-92ac-0b975743149d",
   "metadata": {},
   "outputs": [
    {
     "name": "stdout",
     "output_type": "stream",
     "text": [
      "(1000, 256, 256, 1)\n",
      "(1000, 39)\n"
     ]
    }
   ],
   "source": [
    "NoP = 1000\n",
    "\n",
    "sample = np.random.randint(0,len(data1[1][:,0]),NoP)\n",
    "\n",
    "data_small = [data1[0][sample],data1[1][sample]]\n",
    "label_small = label[sample]\n",
    "print(data_small[0].shape)\n",
    "print(data_small[1].shape)"
   ]
  },
  {
   "cell_type": "code",
   "execution_count": 51,
   "id": "8465f45c-9c6a-4cdc-8ee7-15b13629d350",
   "metadata": {},
   "outputs": [
    {
     "name": "stdout",
     "output_type": "stream",
     "text": [
      "WARNING:tensorflow:SavedModel saved prior to TF 2.5 detected when loading Keras model. Please ensure that you are saving the model with model.save() or tf.keras.models.save_model(), *NOT* tf.saved_model.save(). To confirm, there should be a file named \"keras_metadata.pb\" in the SavedModel directory.\n",
      "WARNING:tensorflow:SavedModel saved prior to TF 2.5 detected when loading Keras model. Please ensure that you are saving the model with model.save() or tf.keras.models.save_model(), *NOT* tf.saved_model.save(). To confirm, there should be a file named \"keras_metadata.pb\" in the SavedModel directory.\n"
     ]
    }
   ],
   "source": [
    "model_3 = keras.models.load_model(\"model_3type\")\n",
    "model_ash = keras.models.load_model(\"model_ash\") # camp og grim , [0,3]\n",
    "model_pollen = keras.models.load_model(\"model_pollen\")"
   ]
  },
  {
   "cell_type": "code",
   "execution_count": 52,
   "id": "e33bbd07-c10b-4192-bba3-cab7fdf9a8dc",
   "metadata": {},
   "outputs": [],
   "source": [
    "prediction_p = model_3.predict(data_small)"
   ]
  },
  {
   "cell_type": "code",
   "execution_count": null,
   "id": "500e5906-bdb3-413e-bc64-4e9deea33fe2",
   "metadata": {},
   "outputs": [],
   "source": []
  },
  {
   "cell_type": "code",
   "execution_count": 56,
   "id": "9ef0f4eb-fd45-4842-a355-61eeabcec4a1",
   "metadata": {},
   "outputs": [
    {
     "name": "stdout",
     "output_type": "stream",
     "text": [
      "[1 0 0 2 0 0 1 1 0 1 0 1 2 2 1 0 0 2 2 1 1 0 0 0 1 1 2 1 1 1 2 0 1 0 0 2 2\n",
      " 2 0 0 1 1 2 0 0 0 0 0 0 1 0 1 1 0 2 1 2 1 1 1 1 1 1 1 1 1 1 1 2 0 0 1 1 0\n",
      " 1 0 0 1 1 0 1 1 2 0 1 1 2 0 2 0 0 2 1 1 1 0 0 0 2 0 1 2 0 2 1 0 2 1 1 0 2\n",
      " 0 1 1 0 2 1 2 1 2 2 1 0 2 1 2 0 1 0 0 1 0 1 0 0 1 0 0 1 0 0 1 1 0 1 0 2 0\n",
      " 1 0 2 1 0 1 1 1 1 1 1 1 1 0 0 1 0 1 1 1 1 1 1 0 0 0 1 1 1 2 0 1 1 0 2 0 0\n",
      " 1 1 0 0 1 1 0 0 0 1 1 0 1 0 1 1 2 0 1 1 0 2 1 1 0 1 2 1 1 1 1 1 0 0 1 0 2\n",
      " 2 0 1 1 2 0 2 1 1 1 1 2 1 1 1 0 0 0 2 1 0 2 2 1 1 1 1 0 1 0 1 0 2 0 0 0 1\n",
      " 1 1 2 1 1 0 1 1 1 1 2 0 0 1 1 2 1 1 1 2 0 1 0 1 0 0 0 1 1 1 2 1 0 2 2 1 1\n",
      " 0 1 1 1 2 1 0 1 1 1 1 0 1 0 1 1 1 0 0 2 1 0 0 0 1 1 0 0 1 1 1 1 0 0 2 0 1\n",
      " 1 2 1 1 1 1 2 1 2 0 0 0 0 1 1 0 1 0 2 2 1 1 0 1 1 2 1 1 2 1 2 0 0 1 1 1 2\n",
      " 0 2 2 1 1 1 1 1 0 1 1 0 2 0 1 1 1 0 1 0 1 1 0 0 1 0 1 2 1 1 1 0 1 0 0 0 0\n",
      " 1 1 2 2 1 1 1 0 1 0 0 1 1 0 0 0 1 0 1 1 1 0 1 1 0 0 2 1 1 0 1 1 0 2 0 2 0\n",
      " 2 1 0 0 1 2 1 2 0 0 1 1 0 2 1 1 1 0 1 1 0 2 0 1 1 2 0 1 2 1 1 2 1 2 1 1 1\n",
      " 0 1 0 0 1 1 2 2 2 2 1 0 1 2 1 2 1 1 2 1 1 0 1 1 1 2 0 2 0 2 2 0 1 1 2 0 1\n",
      " 2 1 1 2 0 0 1 1 1 0 0 1 1 0 2 1 1 0 1 1 1 2 2 0 1 1 2 1 0 1 1 1 1 1 0 1 1\n",
      " 1 0 0 0 0 2 0 1 1 2 1 2 1 2 1 0 0 0 2 0 0 0 1 2 0 1 1 0 1 1 0 1 2 0 1 0 0\n",
      " 0 1 2 1 2 1 2 1 1 0 1 1 0 1 1 2 1 2 0 2 2 1 2 1 1 0 0 2 0 2 1 1 1 1 1 1 2\n",
      " 1 1 1 1 2 2 0 0 1 2 0 1 0 0 1 1 1 1 0 1 0 2 1 1 0 2 0 0 0 0 1 0 0 1 0 0 2\n",
      " 2 2 1 2 2 1 1 2 0 2 0 1 2 1 1 0 1 1 1 0 1 1 1 1 0 0 0 2 1 1 2 2 2 0 1 1 0\n",
      " 1 1 1 0 0 0 1 2 1 2 1 1 1 1 1 0 0 1 2 1 1 1 1 0 0 0 0 2 1 0 1 0 0 1 1 1 1\n",
      " 1 0 1 1 0 0 1 1 0 0 2 2 1 0 1 0 1 0 2 1 0 1 1 1 2 1 1 1 0 2 1 2 1 0 2 2 1\n",
      " 2 0 1 2 1 2 1 1 2 1 0 1 1 0 2 0 0 1 1 0 1 0 0 1 0 1 1 1 0 0 2 0 1 2 1 1 0\n",
      " 0 0 1 1 1 1 1 2 1 1 1 1 1 1 0 1 2 0 1 1 2 1 2 1 1 2 0 2 0 1 2 2 1 1 2 1 1\n",
      " 2 2 1 1 2 1 1 0 1 1 0 2 1 2 1 1 0 2 0 0 1 1 2 1 1 2 0 1 2 2 1 0 2 0 1 1 2\n",
      " 0 0 0 1 1 1 2 2 1 1 1 1 0 2 0 1 1 1 0 1 1 2 1 0 1 2 1 0 0 0 2 1 1 1 1 2 1\n",
      " 1 2 1 1 1 2 1 1 1 1 1 1 0 1 1 1 2 1 1 0 1 1 1 1 1 0 1 1 0 1 1 2 0 2 0 0 0\n",
      " 2 0 1 2 1 1 2 1 0 2 0 2 1 0 1 0 1 1 2 0 2 1 1 2 2 2 2 1 1 0 0 1 1 0 1 0 1\n",
      " 0]\n"
     ]
    }
   ],
   "source": [
    "predictions = np.argmax(prediction_p, axis=1)\n",
    "\n",
    "predicted = np.zeros(len(predictions))\n",
    "\n",
    "\n",
    "print(predictions)\n",
    "\n",
    "\n",
    "pollen = [data_small[0][predictions == 1],data_small[1][predictions == 1]]\n",
    "label_pollen = label_small[predictions == 1]\n",
    "\n",
    "ash = [data_small[0][predictions == 0],data_small[1][predictions == 0]]\n",
    "label_ash = label_small[predictions == 0]\n",
    "\n",
    "dust = [data_small[0][predictions == 2],data_small[1][predictions == 2]]\n",
    "predicted[predictions == 2] = 2\n",
    "\n",
    "\n",
    "\n"
   ]
  },
  {
   "cell_type": "code",
   "execution_count": 57,
   "id": "5f7f35e3-07ee-457d-b8a3-514d8325febc",
   "metadata": {},
   "outputs": [
    {
     "name": "stdout",
     "output_type": "stream",
     "text": [
      "[2 2 2 2 2 2 2 2 2 2 2 2 2 2 2 3 2 2 2 2 2 2 2 2 2 2 2 2 2 2 2 2 2 2 2 2 2\n",
      " 2 2 2 2 3 0 2 2 2 2 2 2 2 2 2 2 2 2 2 2 2 2 2 2 2 2 2 2 2 2 2 2 2 2 2 2 0\n",
      " 2 2 2 2 0 2 2 2 2 3 0 2 2 2 0 2 2 2 2 2 3 2 2 2 2 0 3 2 2 2 0 2 2 2 2 2 2\n",
      " 2 2 3 2 3 2 2 0 2 2 2 2 2 2 2 2 2 2 2 2 0 2 2 2 2 2 3 2 2 2 2 2 2 2 2 3 2\n",
      " 2 2 0 2 2 2 0 2 2 2 2 3 2 2 0 2 3 2 0 2 2 2 2 2 2 2 2 2 2 2 2 2 0 2 2 2 2\n",
      " 2 2 3 0 2 3 2 2 2 2 0 2 2]\n"
     ]
    }
   ],
   "source": [
    "print(label_dust)"
   ]
  },
  {
   "cell_type": "code",
   "execution_count": 58,
   "id": "69d74914-426d-4e51-9e30-fabe9a0e0c94",
   "metadata": {},
   "outputs": [],
   "source": [
    "pollen_p = model_pollen(pollen)\n",
    "ash_p = model_ash(ash)"
   ]
  },
  {
   "cell_type": "code",
   "execution_count": null,
   "id": "80aed372-89b8-4473-aa8e-d7bd35c23be5",
   "metadata": {},
   "outputs": [],
   "source": []
  },
  {
   "cell_type": "raw",
   "id": "865bee8e-a5e3-46cc-b4b1-3efc7772643e",
   "metadata": {},
   "source": [
    "conf_matrix = tf.math.confusion_matrix(labels=label, predictions=predictions, num_classes=6)\n",
    "error_rate = (np.sum(conf_matrix)-np.sum(np.diag(conf_matrix))) / np.sum(np.diag(conf_matrix))\n",
    "inf_acc = 1-error_rate"
   ]
  },
  {
   "cell_type": "raw",
   "id": "bfe281be-d913-4917-a9a1-674de7271a93",
   "metadata": {},
   "source": [
    "plt.figure(figsize=(10,10))\n",
    "ax = sns.heatmap(conf_matrix, annot=True, annot_kws={\"size\": 16}, fmt=\"d\", linewidths=.5, square=True, cbar=False, cmap='Greens')\n",
    "ax.invert_yaxis()\n",
    "plt.ylabel('Actual label', fontsize=16)\n",
    "plt.xlabel('Predicted label', fontsize=16)\n",
    "plt.xticks(fontsize=14); plt.yticks(fontsize=14)\n",
    "plt.title('Accuracy Score: {:.4f}'.format(inf_acc), fontsize=16)\n",
    "plt.show()\n",
    "\n",
    "print('Correct: {0}/{1}'.format(np.sum(np.diag(conf_matrix)),np.sum(conf_matrix)))\n",
    "print('Wrong: {0}/{1}'.format((np.sum(conf_matrix)-np.sum(np.diag(conf_matrix))),np.sum(conf_matrix)))"
   ]
  },
  {
   "cell_type": "code",
   "execution_count": null,
   "id": "6de2d931-283d-431e-af3b-da0ee71b1bca",
   "metadata": {},
   "outputs": [],
   "source": []
  }
 ],
 "metadata": {
  "kernelspec": {
   "display_name": "Python 3",
   "language": "python",
   "name": "python3"
  },
  "language_info": {
   "codemirror_mode": {
    "name": "ipython",
    "version": 3
   },
   "file_extension": ".py",
   "mimetype": "text/x-python",
   "name": "python",
   "nbconvert_exporter": "python",
   "pygments_lexer": "ipython3",
   "version": "3.7.10"
  }
 },
 "nbformat": 4,
 "nbformat_minor": 5
}
