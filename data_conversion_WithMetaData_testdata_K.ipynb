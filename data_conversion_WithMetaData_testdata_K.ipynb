{
 "cells": [
  {
   "cell_type": "code",
   "execution_count": 51,
   "metadata": {},
   "outputs": [],
   "source": [
    "# Import standard libraries:\n",
    "import numpy as np\n",
    "import matplotlib.pyplot as plt\n",
    "%matplotlib inline\n",
    "import seaborn as sns\n",
    "sns.set_style(\"darkgrid\")\n",
    "import pandas as pd\n",
    "\n",
    "import glob\n",
    "from PIL import Image\n",
    "\n",
    "#MetaData = pd.read_csv(\"./trai\")"
   ]
  },
  {
   "cell_type": "code",
   "execution_count": null,
   "metadata": {},
   "outputs": [],
   "source": []
  },
  {
   "cell_type": "code",
   "execution_count": null,
   "metadata": {},
   "outputs": [],
   "source": []
  },
  {
   "cell_type": "code",
   "execution_count": 54,
   "metadata": {},
   "outputs": [
    {
     "name": "stdout",
     "output_type": "stream",
     "text": [
      "['GRIP_raw/GRIP_3046_0_20_1/GRIP_3046_0_20_1_1.png'\n",
      " 'GRIP_raw/GRIP_3046_0_20_1/GRIP_3046_0_20_1_10.png'\n",
      " 'GRIP_raw/GRIP_3046_0_20_1/GRIP_3046_0_20_1_100.png' ...\n",
      " 'GRIP_raw/GRIP_3046_0_20_1/GRIP_3046_0_20_1_9997.png'\n",
      " 'GRIP_raw/GRIP_3046_0_20_1/GRIP_3046_0_20_1_9998.png'\n",
      " 'GRIP_raw/GRIP_3046_0_20_1/GRIP_3046_0_20_1_9999.png']\n",
      "63123\n"
     ]
    }
   ],
   "source": [
    "N = 256\n",
    "\n",
    "path = [\"GRIP_3046_0_20_1\",\"GRIP_3046_20_40_1\",\"GRIP_3046_40_55_1\"]#,\"GRIP_3136_0_20_1\", \"GRIP_3136_20_40_1\",\"GRIP_3136_40_55_1\",\"GRIP_3303_0_20_1\", \"GRIP_3303_20_40_1\", \"GRIP_3303_40_55_1\", \"GRIP_3306_0_20_1\", \"GRIP_3306_20_40_1\", \"GRIP_3306_40_55_1\"]\n",
    "\n",
    "\n",
    "files1 = glob.glob(\"GRIP_raw/\"+path[0]+\"/*.png\")\n",
    "files1 = np.sort(files1, kind='quicksort')\n",
    "print(files1)\n",
    "files1 = files1#[:200]\n",
    "data_raw1 = np.zeros((len(files1),N,N), dtype=np.uint8)\n",
    "for i in range(len(files1)):\n",
    "    im = Image.open(files1[i]).resize((N,N))\n",
    "    data_raw1[i] = np.asarray(im, dtype=np.uint8)\n",
    "\n",
    "print(len(data_raw1))"
   ]
  },
  {
   "cell_type": "code",
   "execution_count": 16,
   "metadata": {},
   "outputs": [],
   "source": [
    "names1 = pd.DataFrame(files1)\n"
   ]
  },
  {
   "cell_type": "code",
   "execution_count": 8,
   "metadata": {},
   "outputs": [
    {
     "name": "stdout",
     "output_type": "stream",
     "text": [
      "['GRIP_raw/GRIP_3046_20_40_1/GRIP_3046_20_40_1_1.png'\n",
      " 'GRIP_raw/GRIP_3046_20_40_1/GRIP_3046_20_40_1_10.png'\n",
      " 'GRIP_raw/GRIP_3046_20_40_1/GRIP_3046_20_40_1_100.png' ...\n",
      " 'GRIP_raw/GRIP_3046_20_40_1/GRIP_3046_20_40_1_9997.png'\n",
      " 'GRIP_raw/GRIP_3046_20_40_1/GRIP_3046_20_40_1_9998.png'\n",
      " 'GRIP_raw/GRIP_3046_20_40_1/GRIP_3046_20_40_1_9999.png']\n",
      "76465\n"
     ]
    }
   ],
   "source": [
    "files2 = glob.glob(\"GRIP_raw/\"+path[1]+\"/*.png\")\n",
    "files2 = np.sort(files2, kind='quicksort')\n",
    "print(files2)\n",
    "files2 = files2#[:200]\n",
    "data_raw2 = np.zeros((len(files2),N,N), dtype=np.uint8)\n",
    "for i in range(len(files2)):\n",
    "    im = Image.open(files2[i]).resize((N,N))\n",
    "    data_raw2[i] = np.asarray(im, dtype=np.uint8)\n",
    "\n",
    "print(len(data_raw2))"
   ]
  },
  {
   "cell_type": "code",
   "execution_count": null,
   "metadata": {},
   "outputs": [],
   "source": []
  },
  {
   "cell_type": "code",
   "execution_count": 12,
   "metadata": {},
   "outputs": [
    {
     "name": "stdout",
     "output_type": "stream",
     "text": [
      "['GRIP_raw/GRIP_3046_40_55_1/GRIP_3046_40_55_1_1.png'\n",
      " 'GRIP_raw/GRIP_3046_40_55_1/GRIP_3046_40_55_1_10.png'\n",
      " 'GRIP_raw/GRIP_3046_40_55_1/GRIP_3046_40_55_1_100.png' ...\n",
      " 'GRIP_raw/GRIP_3046_40_55_1/GRIP_3046_40_55_1_9997.png'\n",
      " 'GRIP_raw/GRIP_3046_40_55_1/GRIP_3046_40_55_1_9998.png'\n",
      " 'GRIP_raw/GRIP_3046_40_55_1/GRIP_3046_40_55_1_9999.png']\n",
      "13650\n",
      "153238\n"
     ]
    }
   ],
   "source": [
    "files3 = glob.glob(\"GRIP_raw/\"+path[2]+\"/*.png\")\n",
    "files3 = np.sort(files3, kind='quicksort')\n",
    "print(files3)\n",
    "files3 = files3#[:200]\n",
    "data_raw3 = np.zeros((len(files3),N,N), dtype=np.uint8)\n",
    "for i in range(len(files3)):\n",
    "    im = Image.open(files3[i]).resize((N,N))\n",
    "    data_raw3[i] = np.asarray(im, dtype=np.uint8)\n",
    "\n",
    "print(len(data_raw3))\n",
    "\n",
    "length = len(data_raw1)+len(data_raw2)+len(data_raw3)\n",
    "print(length)"
   ]
  },
  {
   "cell_type": "code",
   "execution_count": 62,
   "metadata": {},
   "outputs": [
    {
     "name": "stdout",
     "output_type": "stream",
     "text": [
      "[array([[0.06      , 0.        , 1.        , ..., 0.01091299, 0.01091299,\n",
      "        0.28      ],\n",
      "       [4.36      , 4.36      , 0.94      , ..., 6.849509  , 8.151848  ,\n",
      "        2.34      ],\n",
      "       [0.08      , 0.08      , 0.        , ..., 0.01567867, 0.03356812,\n",
      "        0.28      ],\n",
      "       ...,\n",
      "       [0.21      , 0.21      , 0.66      , ..., 0.07150034, 0.09209839,\n",
      "        0.43      ],\n",
      "       [0.57      , 0.57      , 0.9       , ..., 0.3220334 , 0.3754204 ,\n",
      "        0.83      ],\n",
      "       [3.87      , 3.87      , 0.64      , ..., 5.724967  , 8.075991  ,\n",
      "        1.51      ]])]\n"
     ]
    }
   ],
   "source": [
    "MetaPath = [\"GRIP_3046_raw.csv\"]\n",
    "\n",
    "MetaData = []\n",
    "todrop = ['Particle ID',\n",
    "          'Calibration Factor',\n",
    "          'Calibration Image',\n",
    "          'Camera',\n",
    "          'Capture X',\n",
    "          'Capture Y',\n",
    "          'Date',\n",
    "          'Elapsed Time',\n",
    "          'Filter Score',\n",
    "          'Image File',\n",
    "          'Image Height',\n",
    "          'Image Width',\n",
    "          'Image X',\n",
    "          'Image Y',\n",
    "          'Source Image',\n",
    "          'Time',\n",
    "          'Timestamp',\n",
    "          'imgpaths',\n",
    "          'Sample'\n",
    "         ]\n",
    "for i in range(len(MetaPath)):\n",
    "    Data = pd.read_csv(\"./GRIP_raw/{}\".format(MetaPath[i]))\n",
    "    Data = Data.sort_values('imgpaths')\n",
    "    Data = Data.drop(columns = todrop)\n",
    "    Data = Data[:len(files1)]\n",
    "    MetaData.append(Data.to_numpy())\n",
    "\n",
    "\n",
    "print(MetaData)\n"
   ]
  },
  {
   "cell_type": "code",
   "execution_count": 63,
   "metadata": {},
   "outputs": [],
   "source": [
    "\n",
    "test_img = data_raw1\n",
    "test_meta = MetaData\n",
    "\n",
    "NoP = len(files1)\n",
    "\n",
    "label_test = np.concatenate((np.zeros((1,NoP)), np.ones((1,NoP))), axis=1)  \n",
    "\n",
    "\n",
    "np.savez_compressed('test_ice_core.npz', test_img=test_img, test_meta = test_meta)"
   ]
  },
  {
   "cell_type": "code",
   "execution_count": 64,
   "metadata": {},
   "outputs": [
    {
     "name": "stdout",
     "output_type": "stream",
     "text": [
      "63123\n",
      "63123\n"
     ]
    }
   ],
   "source": [
    "print(len(test_img))\n",
    "print(len(*test_meta))"
   ]
  },
  {
   "cell_type": "code",
   "execution_count": null,
   "metadata": {},
   "outputs": [],
   "source": [
    "\n",
    "#data_trail = np.load('test_ice_core.npz',allow_pickle = True)\n",
    "\n",
    "#data_trail['test_img']"
   ]
  },
  {
   "cell_type": "code",
   "execution_count": null,
   "metadata": {},
   "outputs": [],
   "source": []
  }
 ],
 "metadata": {
  "kernelspec": {
   "display_name": "Python 3",
   "language": "python",
   "name": "python3"
  },
  "language_info": {
   "codemirror_mode": {
    "name": "ipython",
    "version": 3
   },
   "file_extension": ".py",
   "mimetype": "text/x-python",
   "name": "python",
   "nbconvert_exporter": "python",
   "pygments_lexer": "ipython3",
   "version": "3.8.5"
  }
 },
 "nbformat": 4,
 "nbformat_minor": 4
}
