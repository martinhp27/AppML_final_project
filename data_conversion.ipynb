{
 "cells": [
  {
   "cell_type": "markdown",
   "metadata": {
    "id": "-JAHDHzEluP9"
   },
   "source": [
    "# Introduction to a Convolutional NN - classifying handwritten numbers:\n",
    "\n",
    "For a long time, images were inaccesible to computers and ML algorithms. However, at the turn of the century very fast development - a slow revolution - happened, and the usage of Convolutional Neural Networks (CNNs) became computationally feasible. The advent of Graphical Processing Units (GPUs) also help propel the sharp rise in ML image analysis capabilities.\n",
    "\n",
    "Through first the MNIST database (1998-2004), and then the PASCAL (2005-2010) and ImageNet (2010-2017) competitions, CNN code developed to become capable of classifying the content of images. The following is an exercise, which uses the famous MNIST dataset, containing about 70000 images of handwritten digits, reduced (and anti-aliased) to 28-by-28 pixel black-and-write images.\n",
    "\n",
    "The CNN applied filters to these images, and then concatenates (i.e. \"boils down\") the images to lower resolution. This process is repeated, and finally the resulting pixel values are fed to a normal Neural Network, and made to provide an output, which lowers the loss function (in this case getting the value of the digit right). Through backpropagation, the filter values and the NN parameters are optimised, and thus in the end, the CNN becomes capable of evaluating images.\n",
    "\n",
    "The code and comments below is meant to be part illustration, part exercise.\n",
    "\n",
    "***\n",
    "\n",
    "Authors: Carl Johnsen & Troels Petersen\n",
    "\n",
    "Emails: cjjohnsen@nbi.ku.dk & petersen@nbi.dk\n",
    "\n",
    "Date: 15th of May 2021 (latest version)"
   ]
  },
  {
   "cell_type": "code",
   "execution_count": 34,
   "metadata": {
    "executionInfo": {
     "elapsed": 279,
     "status": "ok",
     "timestamp": 1622972386229,
     "user": {
      "displayName": "Martin Hoffmann Petersen",
      "photoUrl": "https://lh3.googleusercontent.com/a-/AOh14Gi9DGHG-AJwhdPmNrl1IFsn5PHgYkx_BS6DNFF3wA=s64",
      "userId": "14505245154483485915"
     },
     "user_tz": -120
    },
    "id": "OlmgX9hZluQE"
   },
   "outputs": [],
   "source": [
    "# Import standard libraries:\n",
    "import numpy as np\n",
    "import matplotlib.pyplot as plt\n",
    "%matplotlib inline\n",
    "import seaborn as sns\n",
    "sns.set_style(\"darkgrid\")\n",
    "import pandas as pd\n",
    "from tqdm import tqdm\n",
    "import glob\n",
    "from PIL import Image\n",
    "\n"
   ]
  },
  {
   "cell_type": "code",
   "execution_count": 35,
   "metadata": {
    "executionInfo": {
     "elapsed": 228,
     "status": "ok",
     "timestamp": 1622972389874,
     "user": {
      "displayName": "Martin Hoffmann Petersen",
      "photoUrl": "https://lh3.googleusercontent.com/a-/AOh14Gi9DGHG-AJwhdPmNrl1IFsn5PHgYkx_BS6DNFF3wA=s64",
      "userId": "14505245154483485915"
     },
     "user_tz": -120
    },
    "id": "2DN0ZEvfmhLy"
   },
   "outputs": [],
   "source": [
    "# !pip install cupy\n",
    "# import cupy as cp\n"
   ]
  },
  {
   "cell_type": "code",
   "execution_count": 36,
   "metadata": {
    "colab": {
     "base_uri": "https://localhost:8080/"
    },
    "executionInfo": {
     "elapsed": 36058,
     "status": "ok",
     "timestamp": 1622972441467,
     "user": {
      "displayName": "Martin Hoffmann Petersen",
      "photoUrl": "https://lh3.googleusercontent.com/a-/AOh14Gi9DGHG-AJwhdPmNrl1IFsn5PHgYkx_BS6DNFF3wA=s64",
      "userId": "14505245154483485915"
     },
     "user_tz": -120
    },
    "id": "EfAMJuVZnd8j",
    "outputId": "8be9f618-38ff-4c0a-ee8b-6e53658e77e1"
   },
   "outputs": [],
   "source": [
    "# from google.colab import drive\n",
    "# drive.mount('/content/drive')"
   ]
  },
  {
   "cell_type": "code",
   "execution_count": 37,
   "metadata": {
    "colab": {
     "base_uri": "https://localhost:8080/"
    },
    "executionInfo": {
     "elapsed": 2438420,
     "status": "ok",
     "timestamp": 1622975554298,
     "user": {
      "displayName": "Martin Hoffmann Petersen",
      "photoUrl": "https://lh3.googleusercontent.com/a-/AOh14Gi9DGHG-AJwhdPmNrl1IFsn5PHgYkx_BS6DNFF3wA=s64",
      "userId": "14505245154483485915"
     },
     "user_tz": -120
    },
    "id": "00Kzlv9DluQF",
    "outputId": "38b29b0b-415b-4f9c-bd76-f9a41416ffc9"
   },
   "outputs": [
    {
     "name": "stderr",
     "output_type": "stream",
     "text": [
      "100%|██████████████████████████████████████████████████████████████████████████| 10000/10000 [00:09<00:00, 1072.88it/s]\n"
     ]
    }
   ],
   "source": [
    "N = 64\n",
    "\n",
    "path = [\"campanian\",\"corylus\",\"dust\",\"grimsvotn\",\"qrobur\",\"qsuber\"]\n",
    "\n",
    "files1 = glob.glob('train/'+path[0]+'/*.png')\n",
    "\n",
    "files1 = files1[:10000]\n",
    "data_camp = np.zeros((len(files1),N,N), dtype=np.uint8)\n",
    "for i in tqdm(range(len(files1))):\n",
    "    im = Image.open(files1[i]).resize((N,N))\n",
    "    data_camp[i] = np.asarray(im, dtype=np.uint8)"
   ]
  },
  {
   "cell_type": "code",
   "execution_count": 38,
   "metadata": {
    "colab": {
     "background_save": true,
     "base_uri": "https://localhost:8080/"
    },
    "executionInfo": {
     "elapsed": 112398,
     "status": "ok",
     "timestamp": 1622977455512,
     "user": {
      "displayName": "Martin Hoffmann Petersen",
      "photoUrl": "https://lh3.googleusercontent.com/a-/AOh14Gi9DGHG-AJwhdPmNrl1IFsn5PHgYkx_BS6DNFF3wA=s64",
      "userId": "14505245154483485915"
     },
     "user_tz": -120
    },
    "id": "izGy8PFfluQH"
   },
   "outputs": [
    {
     "name": "stderr",
     "output_type": "stream",
     "text": [
      "100%|████████████████████████████████████████████████████████████████████████████| 7825/7825 [00:07<00:00, 1054.29it/s]\n"
     ]
    }
   ],
   "source": [
    "files2 = glob.glob('train/'+path[1]+'/*.png')\n",
    "files2 = files2[:8000]\n",
    "data_cory = np.zeros((len(files2),N,N), dtype=np.uint8)\n",
    "for i in tqdm(range(len(files2))):\n",
    "    im = Image.open(files2[i]).resize((N,N))\n",
    "    data_cory[i] = np.asarray(im, dtype=np.uint8)"
   ]
  },
  {
   "cell_type": "code",
   "execution_count": 39,
   "metadata": {
    "colab": {
     "background_save": true,
     "base_uri": "https://localhost:8080/"
    },
    "id": "-TWYM3MUluQI"
   },
   "outputs": [
    {
     "name": "stderr",
     "output_type": "stream",
     "text": [
      "100%|██████████████████████████████████████████████████████████████████████████| 14000/14000 [00:07<00:00, 1843.95it/s]\n"
     ]
    }
   ],
   "source": [
    "files3 = glob.glob('train/'+path[2]+'/*.png')\n",
    "files3 = files3[:14000]\n",
    "data_dust = np.zeros((len(files3),N,N), dtype=np.uint8)\n",
    "for i in tqdm(range(len(files3))):\n",
    "    im = Image.open(files3[i]).resize((N,N))\n",
    "    data_dust[i] = np.asarray(im,dtype=np.uint8)"
   ]
  },
  {
   "cell_type": "code",
   "execution_count": 40,
   "metadata": {
    "colab": {
     "background_save": true
    },
    "id": "qNbB0MU3luQI"
   },
   "outputs": [
    {
     "name": "stderr",
     "output_type": "stream",
     "text": [
      "100%|███████████████████████████████████████████████████████████████████████████| 10000/10000 [00:16<00:00, 611.47it/s]\n"
     ]
    }
   ],
   "source": [
    "files4 = glob.glob('train/'+path[3]+'/*.png')\n",
    "files4 = files4[:10000]\n",
    "data_grim = np.zeros((len(files4),N,N),dtype=np.uint8)\n",
    "for i in tqdm(range(len(files4))):\n",
    "    im = Image.open(files4[i]).resize((N,N), )\n",
    "    data_grim[i] = np.asarray(im, dtype=np.uint8)"
   ]
  },
  {
   "cell_type": "code",
   "execution_count": 41,
   "metadata": {
    "colab": {
     "background_save": true
    },
    "id": "n56E407ZluQJ"
   },
   "outputs": [
    {
     "name": "stderr",
     "output_type": "stream",
     "text": [
      "100%|████████████████████████████████████████████████████████████████████████████| 8000/8000 [00:07<00:00, 1019.13it/s]\n"
     ]
    }
   ],
   "source": [
    "files5 = glob.glob('train/'+path[4]+'/*.png')\n",
    "files5 = files5[:8000]\n",
    "data_qro = np.zeros((len(files5),N,N), dtype=np.uint8)\n",
    "for i in tqdm(range(len(files5))):\n",
    "    im = Image.open(files5[i]).resize((N,N))\n",
    "    data_qro[i] = np.asarray(im, dtype=np.uint8)"
   ]
  },
  {
   "cell_type": "code",
   "execution_count": 42,
   "metadata": {
    "id": "fsa4U1bJluQK"
   },
   "outputs": [
    {
     "name": "stderr",
     "output_type": "stream",
     "text": [
      "100%|█████████████████████████████████████████████████████████████████████████████| 8000/8000 [00:08<00:00, 936.36it/s]\n"
     ]
    }
   ],
   "source": [
    "files6 = glob.glob('train/'+path[5]+'/*.png')\n",
    "files6 = files6[:8000]\n",
    "data_qsu = np.zeros((len(files6),N,N), dtype=np.uint8)\n",
    "for i in tqdm(range(len(files6))):\n",
    "    im = Image.open(files6[i]).resize((N,N))\n",
    "    data_qsu[i] = np.asarray(im, dtype=np.uint8)"
   ]
  },
  {
   "cell_type": "code",
   "execution_count": 43,
   "metadata": {
    "id": "ZQn5irDvluQL"
   },
   "outputs": [],
   "source": [
    "n = 0\n",
    "path = [\"campanian\",\"corylus\",\"dust\",\"grimsvotn\",\"qrobur\",\"qsuber\"]\n",
    "for i in path:\n",
    "    n += len(glob.glob('train/'+i+'/*.png'))"
   ]
  },
  {
   "cell_type": "code",
   "execution_count": 44,
   "metadata": {
    "colab": {
     "base_uri": "https://localhost:8080/",
     "height": 257
    },
    "executionInfo": {
     "elapsed": 36,
     "status": "error",
     "timestamp": 1622971840089,
     "user": {
      "displayName": "Martin Hoffmann Petersen",
      "photoUrl": "https://lh3.googleusercontent.com/a-/AOh14Gi9DGHG-AJwhdPmNrl1IFsn5PHgYkx_BS6DNFF3wA=s64",
      "userId": "14505245154483485915"
     },
     "user_tz": -120
    },
    "id": "FoS1LqaIluQM",
    "outputId": "8df58f68-db48-4823-b6b0-97f1bd545fc5"
   },
   "outputs": [],
   "source": [
    "data = np.vstack((data_camp, data_cory, data_dust, data_grim, data_qro, data_qsu))\n",
    "\n",
    "data_ash = np.vstack((data_camp, data_grim)) \n",
    "\n",
    "data_pollen = np.vstack((data_cory, data_qro, data_qsu))\n",
    "\n",
    "\n",
    "files = files1+files2+files3+files4+files5+files6\n",
    "\n",
    "\n",
    "names = []\n",
    "\n",
    "for i in range(len(path)):\n",
    "    for n in range(len(files)):\n",
    "        names.append(path[i]+str(n))\n",
    "\n",
    "label_ash = np.zeros((1,len(data_ash)),dtype=int)\n",
    "label_pollen = np.ones((1,len(data_pollen)),dtype=int)\n",
    "label_dust = np.ones((1,len(data_dust)),dtype=int)*int(2)\n",
    "\n",
    "label_camp = np.zeros((1,len(data_ash)),dtype=int)\n",
    "label_cory = np.ones((1,len(data_pollen)),dtype=int)\n",
    "label_grim = np.ones((1,len(data_dust)),dtype=int)*int(3)\n",
    "label_qro = np.ones((1,len(data_dust)),dtype=int)*int(4)\n",
    "label_qsu = np.ones((1,len(data_dust)),dtype=int)*int(5)\n",
    "\n",
    "        \n",
    "np.savez_compressed('data_codingset_ash.npz', data=data_ash, label=label_ash)\n",
    "np.savez_compressed('data_codingset_pollen.npz', data=data_pollen, label=label_pollen)\n",
    "np.savez_compressed('data_codingset_dust.npz', data=data_dust, label=label_dust)\n",
    "\n",
    "np.savez_compressed('data_codingset_camp.npz', data=data_camp, label=label_camp)\n",
    "np.savez_compressed('data_codingset_cory.npz', data=data_cory, label=label_cory)\n",
    "np.savez_compressed('data_codingset_grim.npz', data=data_grim, label=label_grim)\n",
    "np.savez_compressed('data_codingset_qro.npz', data=data_qro, label=label_qro)\n",
    "np.savez_compressed('data_codingset_qsu.npz', data=data_qsu, label=label_qsu)"
   ]
  },
  {
   "cell_type": "code",
   "execution_count": null,
   "metadata": {
    "executionInfo": {
     "elapsed": 30,
     "status": "aborted",
     "timestamp": 1622971840087,
     "user": {
      "displayName": "Martin Hoffmann Petersen",
      "photoUrl": "https://lh3.googleusercontent.com/a-/AOh14Gi9DGHG-AJwhdPmNrl1IFsn5PHgYkx_BS6DNFF3wA=s64",
      "userId": "14505245154483485915"
     },
     "user_tz": -120
    },
    "id": "xRQySqXnluQN"
   },
   "outputs": [],
   "source": []
  }
 ],
 "metadata": {
  "colab": {
   "name": "data_conversion.ipynb",
   "version": ""
  },
  "kernelspec": {
   "display_name": "Python 3",
   "language": "python",
   "name": "python3"
  },
  "language_info": {
   "codemirror_mode": {
    "name": "ipython",
    "version": 3
   },
   "file_extension": ".py",
   "mimetype": "text/x-python",
   "name": "python",
   "nbconvert_exporter": "python",
   "pygments_lexer": "ipython3",
   "version": "3.8.8"
  }
 },
 "nbformat": 4,
 "nbformat_minor": 1
}
