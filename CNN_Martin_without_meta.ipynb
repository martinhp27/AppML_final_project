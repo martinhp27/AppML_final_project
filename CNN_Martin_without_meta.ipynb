{
 "cells": [
  {
   "cell_type": "markdown",
   "metadata": {
    "id": "T9ZftxdHGdso"
   },
   "source": [
    "### Important packages"
   ]
  },
  {
   "cell_type": "code",
   "execution_count": 1,
   "metadata": {
    "executionInfo": {
     "elapsed": 2550,
     "status": "ok",
     "timestamp": 1623264457909,
     "user": {
      "displayName": "Martin Hoffmann Petersen",
      "photoUrl": "https://lh3.googleusercontent.com/a-/AOh14Gi9DGHG-AJwhdPmNrl1IFsn5PHgYkx_BS6DNFF3wA=s64",
      "userId": "14505245154483485915"
     },
     "user_tz": -120
    },
    "id": "YTjZDaVGGdsq"
   },
   "outputs": [],
   "source": [
    "# General packages\n",
    "import sys\n",
    "import numpy as np\n",
    "import matplotlib.pyplot as plt\n",
    "import pandas as pd\n",
    "from pandas import Series, DataFrame \n",
    "import h5py\n",
    "import seaborn as sns\n",
    "\n",
    "# Numerical packages\n",
    "import matplotlib\n",
    "import sklearn\n",
    "import itertools\n",
    "from tqdm import tqdm\n",
    "from scipy import stats, integrate\n",
    "from scipy.optimize import curve_fit\n",
    "import scipy.constants as const\n",
    "from numpy.linalg import inv\n",
    "\n",
    "# # Import KDE\n",
    "# from sklearn.neighbors import KernelDensity\n",
    "\n",
    "# # MCMC\n",
    "# import emcee\n",
    "\n",
    "# # Splines\n",
    "# from scipy.interpolate import interp1d, BSpline, PchipInterpolator\n",
    "# #from csaps import csaps\n",
    "\n",
    "# # Nested sampling\n",
    "# import nestle\n",
    "\n",
    "# Boosted decision tree packages\n",
    "from sklearn.ensemble import AdaBoostClassifier\n",
    "from sklearn.metrics import confusion_matrix\n",
    "from sklearn.model_selection import train_test_split\n",
    "from sklearn.metrics import classification_report\n",
    "from sklearn.tree import DecisionTreeClassifier\n",
    "# import lightgbm as lgb \n",
    "# import xgboost as xgb \n",
    "from sklearn.metrics import accuracy_score, auc\n",
    "from sklearn.metrics import mean_squared_error\n",
    "#import shap\n",
    "\n",
    "# Neural network\n",
    "import tensorflow as tf\n",
    "import keras\n",
    "from keras.models import Sequential\n",
    "from keras.layers import Dense\n",
    "from sklearn.inspection import permutation_importance\n",
    "from keras.layers.core import Dense, Dropout, Flatten\n",
    "from keras.optimizers import SGD\n",
    "from keras.layers import Dropout\n",
    "from keras.models import Sequential\n",
    "from keras.layers import Conv2D, MaxPooling2D, Flatten, Dense, Dropout\n",
    "from keras.losses import categorical_crossentropy\n",
    "from keras.optimizers import Adadelta\n",
    "\n",
    "#tf.compat.v1.logging.set_verbosity(tf.compat.v1.logging.ERROR)\n",
    "\n",
    "# # Random Forets\n",
    "# from sklearn.ensemble import RandomForestClassifier\n",
    "# from sklearn.ensemble import ExtraTreesClassifier\n",
    "# from sklearn.tree import DecisionTreeClassifier\n",
    "# from sklearn.model_selection import cross_val_score # for cross-validation\n",
    "\n",
    "\n",
    "# # Baysian optimization \n",
    "\n",
    "#from bayes_opt import BayesianOptimization\n",
    "\n",
    "\n",
    "# # Random search\n",
    "# from sklearn.model_selection import RandomizedSearchCV, KFold\n",
    "\n",
    "# # Data preprocessing \n",
    "from sklearn.preprocessing import LabelEncoder,OneHotEncoder, StandardScaler\n",
    "from datetime import datetime \n",
    "import time\n",
    "\n",
    "# # Fit og plot packages\n",
    "# from iminuit import Minuit\n",
    "# # sys.path.append('C:/Users/marti/Google Drev/Uni/Pyhton/External_Functions')\n",
    "# # from ExternalFunctions import Chi2Regression, BinnedLH, UnbinnedLH\n",
    "# # from ExternalFunctions import nice_string_output, add_text_to_ax    # Useful functions to print fit results on figure"
   ]
  },
  {
   "cell_type": "code",
   "execution_count": 2,
   "metadata": {
    "colab": {
     "base_uri": "https://localhost:8080/"
    },
    "executionInfo": {
     "elapsed": 3946,
     "status": "ok",
     "timestamp": 1623264461852,
     "user": {
      "displayName": "Martin Hoffmann Petersen",
      "photoUrl": "https://lh3.googleusercontent.com/a-/AOh14Gi9DGHG-AJwhdPmNrl1IFsn5PHgYkx_BS6DNFF3wA=s64",
      "userId": "14505245154483485915"
     },
     "user_tz": -120
    },
    "id": "SsEor5HaatVd",
    "outputId": "3471d3ff-0349-40a4-d824-2d0eb4d6187d"
   },
   "outputs": [
    {
     "name": "stdout",
     "output_type": "stream",
     "text": [
      "Collecting bayesian-optimization\n",
      "  Downloading https://files.pythonhosted.org/packages/bb/7a/fd8059a3881d3ab37ac8f72f56b73937a14e8bb14a9733e68cc8b17dbe3c/bayesian-optimization-1.2.0.tar.gz\n",
      "Requirement already satisfied: numpy>=1.9.0 in /usr/local/lib/python3.7/dist-packages (from bayesian-optimization) (1.19.5)\n",
      "Requirement already satisfied: scipy>=0.14.0 in /usr/local/lib/python3.7/dist-packages (from bayesian-optimization) (1.4.1)\n",
      "Requirement already satisfied: scikit-learn>=0.18.0 in /usr/local/lib/python3.7/dist-packages (from bayesian-optimization) (0.22.2.post1)\n",
      "Requirement already satisfied: joblib>=0.11 in /usr/local/lib/python3.7/dist-packages (from scikit-learn>=0.18.0->bayesian-optimization) (1.0.1)\n",
      "Building wheels for collected packages: bayesian-optimization\n",
      "  Building wheel for bayesian-optimization (setup.py) ... \u001b[?25l\u001b[?25hdone\n",
      "  Created wheel for bayesian-optimization: filename=bayesian_optimization-1.2.0-cp37-none-any.whl size=11686 sha256=2cec5d142d1a78d70287bc5b756be0609b036f8c7141f853aa253a23f3a0b0b4\n",
      "  Stored in directory: /root/.cache/pip/wheels/5a/56/ae/e0e3c1fc1954dc3ec712e2df547235ed072b448094d8f94aec\n",
      "Successfully built bayesian-optimization\n",
      "Installing collected packages: bayesian-optimization\n",
      "Successfully installed bayesian-optimization-1.2.0\n"
     ]
    }
   ],
   "source": [
    "!pip install bayesian-optimization"
   ]
  },
  {
   "cell_type": "code",
   "execution_count": null,
   "metadata": {
    "id": "1LWUxaClvBlI"
   },
   "outputs": [],
   "source": [
    "!"
   ]
  },
  {
   "cell_type": "markdown",
   "metadata": {
    "id": "bQxmfjqxGdss"
   },
   "source": [
    "### Pretty plotting routines"
   ]
  },
  {
   "cell_type": "code",
   "execution_count": 3,
   "metadata": {
    "executionInfo": {
     "elapsed": 273,
     "status": "ok",
     "timestamp": 1623264463397,
     "user": {
      "displayName": "Martin Hoffmann Petersen",
      "photoUrl": "https://lh3.googleusercontent.com/a-/AOh14Gi9DGHG-AJwhdPmNrl1IFsn5PHgYkx_BS6DNFF3wA=s64",
      "userId": "14505245154483485915"
     },
     "user_tz": -120
    },
    "id": "1uK0HPUiGdss"
   },
   "outputs": [],
   "source": [
    "def reset_plt(ticksize,fontsize):\n",
    "    plt.style.use('seaborn-white')\n",
    "    plt.rcParams['xtick.labelsize'] = ticksize\n",
    "    plt.rcParams['ytick.labelsize'] = ticksize\n",
    "    plt.rcParams['font.size'] = fontsize\n",
    "    plt.rcParams['mathtext.fontset'] = 'stix'\n",
    "    plt.rcParams['font.family'] = 'STIXGeneral'\n",
    "    plt.rcParams['legend.facecolor'] = 'white'\n",
    "    #plt.rcParams['axes.formatter.limits'] = (-1,3)\n",
    "    #plt.rcParams['axes.linewidth'] = 2.25\n",
    "    \n",
    "\n",
    "def put_ticks(this_fig,this_ax):\n",
    "    this_ax.xaxis.set_tick_params(which = 'major', direction = 'in', width = 2.5, length = 12, zorder = 1, top = True)\n",
    "    this_ax.yaxis.set_tick_params(which = 'major', direction = 'in', width = 2.5, length = 12, zorder = 1, right = True)\n",
    "    this_ax.xaxis.set_tick_params(which = 'minor', direction = 'in', width = 1.5, length = 6, zorder = 1, top = True)\n",
    "    this_ax.yaxis.set_tick_params(which = 'minor', direction = 'in', width = 1.5, length = 6, zorder = 1, right = True)\n",
    "    dx = -3/72\n",
    "    dy = -3/72\n",
    "    y_offset = matplotlib.transforms.ScaledTranslation(0, dy, this_fig.dpi_scale_trans)\n",
    "    x_offset = matplotlib.transforms.ScaledTranslation(dx, 0, this_fig.dpi_scale_trans)\n",
    "\n",
    "    for label in this_ax.xaxis.get_majorticklabels():\n",
    "        label.set_transform(label.get_transform() + y_offset)\n",
    "\n",
    "    for label in this_ax.yaxis.get_majorticklabels():\n",
    "        label.set_transform(label.get_transform() + x_offset)"
   ]
  },
  {
   "cell_type": "markdown",
   "metadata": {
    "id": "wCrSvQqEGdss"
   },
   "source": [
    "### Import data "
   ]
  },
  {
   "cell_type": "code",
   "execution_count": 4,
   "metadata": {
    "colab": {
     "base_uri": "https://localhost:8080/"
    },
    "executionInfo": {
     "elapsed": 19497,
     "status": "ok",
     "timestamp": 1623264484536,
     "user": {
      "displayName": "Martin Hoffmann Petersen",
      "photoUrl": "https://lh3.googleusercontent.com/a-/AOh14Gi9DGHG-AJwhdPmNrl1IFsn5PHgYkx_BS6DNFF3wA=s64",
      "userId": "14505245154483485915"
     },
     "user_tz": -120
    },
    "id": "q2ZAZp6dg244",
    "outputId": "f8f83be3-3d1a-426b-82c0-d595df3bf713"
   },
   "outputs": [
    {
     "name": "stdout",
     "output_type": "stream",
     "text": [
      "Mounted at /content/drive\n"
     ]
    }
   ],
   "source": [
    "from google.colab import drive\n",
    "drive.mount('/content/drive')"
   ]
  },
  {
   "cell_type": "code",
   "execution_count": null,
   "metadata": {
    "id": "SaPkNSrcvKeK"
   },
   "outputs": [],
   "source": [
    "# Takes 14 min to extract\n",
    "# !unzip 'drive/MyDrive/Uni/Pyhton/AppliedML2021/Finalproject/test_GRIP_31may2021.zip'\n"
   ]
  },
  {
   "cell_type": "code",
   "execution_count": 5,
   "metadata": {
    "colab": {
     "base_uri": "https://localhost:8080/"
    },
    "executionInfo": {
     "elapsed": 46544,
     "status": "ok",
     "timestamp": 1623264531789,
     "user": {
      "displayName": "Martin Hoffmann Petersen",
      "photoUrl": "https://lh3.googleusercontent.com/a-/AOh14Gi9DGHG-AJwhdPmNrl1IFsn5PHgYkx_BS6DNFF3wA=s64",
      "userId": "14505245154483485915"
     },
     "user_tz": -120
    },
    "id": "9un5qSu2Gdst",
    "outputId": "50cf7dff-c155-4c1a-9cc7-dbee20c89b15"
   },
   "outputs": [
    {
     "data": {
      "text/plain": [
       "((8100,), (8100, 256, 256))"
      ]
     },
     "execution_count": 5,
     "metadata": {
      "tags": []
     },
     "output_type": "execute_result"
    }
   ],
   "source": [
    "data_ash = np.load('drive/MyDrive/Uni/Pyhton/AppliedML2021/Finalproject/train_data/data_codingset_ash.npz') # label 0\n",
    "data_pollen = np.load('drive/MyDrive/Uni/Pyhton/AppliedML2021/Finalproject/train_data/data_codingset_pollen.npz') # label 1\n",
    "data_dust = np.load('drive/MyDrive/Uni/Pyhton/AppliedML2021/Finalproject/train_data/data_codingset_dust.npz') # label 2\n",
    "\n",
    "# \n",
    "l = 2700\n",
    "ind_ash = np.random.choice(data_ash['data'].shape[0],size=(l,))\n",
    "ind_pollen= np.random.choice(data_pollen['data'].shape[0],size=(l,))\n",
    "\n",
    "data = np.concatenate((data_ash['data'][ind_ash],data_pollen['data'][ind_pollen],data_dust['data'][:l]))\n",
    "labels = np.concatenate((data_ash['label'][0][:l],data_pollen['label'][0][:l],data_dust['label'][0][:l]), axis=0)\n",
    "labels.shape, data.shape"
   ]
  },
  {
   "cell_type": "markdown",
   "metadata": {
    "id": "tjDkfy3xGdst"
   },
   "source": [
    "\n",
    "### Scale data and separate it into train, val and test"
   ]
  },
  {
   "cell_type": "code",
   "execution_count": 6,
   "metadata": {
    "executionInfo": {
     "elapsed": 3526,
     "status": "ok",
     "timestamp": 1623264536198,
     "user": {
      "displayName": "Martin Hoffmann Petersen",
      "photoUrl": "https://lh3.googleusercontent.com/a-/AOh14Gi9DGHG-AJwhdPmNrl1IFsn5PHgYkx_BS6DNFF3wA=s64",
      "userId": "14505245154483485915"
     },
     "user_tz": -120
    },
    "id": "Y7BbB3VYGdsu"
   },
   "outputs": [],
   "source": [
    "# Split the data set and labels into train, validation and test set\n",
    "test_size = 0.2\n",
    "val_size = 0.2\n",
    "\n",
    "train_val_images,test_images,train_val_labels,test_labels = train_test_split(data\n",
    "                                               ,labels,test_size=test_size, random_state=42)\n",
    "train_images,val_images,train_labels,val_labels = train_test_split(train_val_images,train_val_labels,test_size=val_size, random_state=42)\n",
    "\n",
    "# explicitly illustrating standardization\n",
    "def standardizeimg(img, mu, sigma):\n",
    "    return (img-mu)/(sigma).astype(np.float32)\n",
    "\n",
    "# save for scaling test data\n",
    "mu_train = np.mean(train_images)\n",
    "sigma_train = np.std(train_images)\n",
    "\n",
    "# Standardize pixel distribution to have zero mean and unit variance\n",
    "train_images = standardizeimg(img=train_images, mu=mu_train, sigma=sigma_train)\n",
    "val_images = standardizeimg(img=val_images, mu=np.mean(val_images), sigma=np.std(val_images))\n",
    "\n",
    "\n",
    "# adapt to format required by tensorflow; Using channels_last --> (n_samples, img_rows, img_cols, n_channels)\n",
    "img_rows, img_cols = 256, 256 # input image dimensions\n",
    "train_images = train_images.reshape(train_images.shape[0], img_rows, img_cols, 1)\n",
    "val_images = val_images.reshape(val_images.shape[0], img_rows, img_cols, 1)\n",
    "\n",
    "# convert class vectors to binary class matrices - one hot encoding\n",
    "num_classes = 3\n",
    "train_labels = tf.keras.utils.to_categorical(train_labels, num_classes)\n",
    "val_labels = tf.keras.utils.to_categorical(val_labels, num_classes)\n",
    "\n",
    "# avoid using statistics intrinsic to test data to ensure unbiased estimate of real model performance\n",
    "test_images = standardizeimg(img=test_images, mu=mu_train, sigma=sigma_train)\n",
    "test_images = test_images.reshape(test_images.shape[0], img_rows, img_cols, 1)\n",
    "test_labels = tf.keras.utils.to_categorical(test_labels, num_classes)"
   ]
  },
  {
   "cell_type": "markdown",
   "metadata": {
    "id": "zeZuuVwUGdsu"
   },
   "source": [
    "### Inspect data "
   ]
  },
  {
   "cell_type": "code",
   "execution_count": 7,
   "metadata": {
    "colab": {
     "base_uri": "https://localhost:8080/"
    },
    "executionInfo": {
     "elapsed": 12,
     "status": "ok",
     "timestamp": 1623264536200,
     "user": {
      "displayName": "Martin Hoffmann Petersen",
      "photoUrl": "https://lh3.googleusercontent.com/a-/AOh14Gi9DGHG-AJwhdPmNrl1IFsn5PHgYkx_BS6DNFF3wA=s64",
      "userId": "14505245154483485915"
     },
     "user_tz": -120
    },
    "id": "3qisW-rjGdsu",
    "outputId": "82e916b3-7733-4ddc-f621-bb3021262e58"
   },
   "outputs": [
    {
     "name": "stdout",
     "output_type": "stream",
     "text": [
      "Training set:\n",
      " > images: (5184, 256, 256, 1)\n",
      " > labels: (5184, 3)\n",
      "Validation set:\n",
      " > images: (1296, 256, 256, 1)\n",
      " > labels: (1296, 3)\n",
      "Test set:\n",
      " > images: (1620, 256, 256, 1)\n",
      " > labels: (1620, 3)\n"
     ]
    }
   ],
   "source": [
    "print(\"Training set:\")\n",
    "print(\" > images:\", train_images.shape)\n",
    "print(\" > labels:\", train_labels.shape)\n",
    "print(\"Validation set:\")\n",
    "print(\" > images:\", val_images.shape)\n",
    "print(\" > labels:\", val_labels.shape)\n",
    "print(\"Test set:\")\n",
    "print(\" > images:\", test_images.shape)\n",
    "print(\" > labels:\", test_labels.shape)"
   ]
  },
  {
   "cell_type": "code",
   "execution_count": 8,
   "metadata": {
    "colab": {
     "base_uri": "https://localhost:8080/"
    },
    "executionInfo": {
     "elapsed": 285,
     "status": "ok",
     "timestamp": 1623264538076,
     "user": {
      "displayName": "Martin Hoffmann Petersen",
      "photoUrl": "https://lh3.googleusercontent.com/a-/AOh14Gi9DGHG-AJwhdPmNrl1IFsn5PHgYkx_BS6DNFF3wA=s64",
      "userId": "14505245154483485915"
     },
     "user_tz": -120
    },
    "id": "xFVgr4WOGdsv",
    "outputId": "b59637f5-9bde-4b97-9a62-6ff6a68e743c"
   },
   "outputs": [
    {
     "data": {
      "text/plain": [
       "[PhysicalDevice(name='/physical_device:GPU:0', device_type='GPU')]"
      ]
     },
     "execution_count": 8,
     "metadata": {
      "tags": []
     },
     "output_type": "execute_result"
    }
   ],
   "source": [
    "import tensorflow \n",
    "tensorflow.config.list_physical_devices('GPU')"
   ]
  },
  {
   "cell_type": "code",
   "execution_count": 9,
   "metadata": {
    "colab": {
     "base_uri": "https://localhost:8080/",
     "height": 441
    },
    "executionInfo": {
     "elapsed": 904,
     "status": "ok",
     "timestamp": 1623264538976,
     "user": {
      "displayName": "Martin Hoffmann Petersen",
      "photoUrl": "https://lh3.googleusercontent.com/a-/AOh14Gi9DGHG-AJwhdPmNrl1IFsn5PHgYkx_BS6DNFF3wA=s64",
      "userId": "14505245154483485915"
     },
     "user_tz": -120
    },
    "id": "uxE1dwESGdsv",
    "outputId": "29a36324-036a-4f97-af6c-b389768d7d08"
   },
   "outputs": [
    {
     "data": {
      "image/png": "[encoded data removed]",
      "text/plain": [
       "<Figure size 720x432 with 15 Axes>"
      ]
     },
     "metadata": {
      "tags": []
     },
     "output_type": "display_data"
    }
   ],
   "source": [
    "fig, ax = plt.subplots(nrows=3, ncols=5, figsize=(10,6))\n",
    "for i in range(5):\n",
    "\n",
    "    # train\n",
    "    ax[0,i].imshow(train_images[i].reshape(img_rows, img_cols), cmap=plt.cm.binary)\n",
    "    ax[0,i].set_xlabel(np.argmax(train_labels[i]), fontsize=18)\n",
    "    ax[0,i].set_xticks([]); ax[0,i].set_yticks([]); ax[0,i].grid(False)\n",
    "    # val\n",
    "    ax[1,i].imshow(val_images[i].reshape(img_rows, img_cols), cmap=plt.cm.binary)\n",
    "    ax[1,i].set_xlabel(np.argmax(val_labels[i]), fontsize=18)\n",
    "    ax[1,i].set_xticks([]); ax[1,i].set_yticks([]); ax[1,i].grid(False)\n",
    "    # test\n",
    "    ax[2,i].imshow(test_images[i].reshape(img_rows, img_cols), cmap=plt.cm.binary)\n",
    "    ax[2,i].set_xlabel(np.argmax(test_labels[i]), fontsize=18)\n",
    "    ax[2,i].set_xticks([]); ax[2,i].set_yticks([]); ax[2,i].grid(False)\n",
    "    \n",
    "plt.tight_layout()\n",
    "plt.show()"
   ]
  },
  {
   "cell_type": "code",
   "execution_count": 10,
   "metadata": {
    "colab": {
     "base_uri": "https://localhost:8080/",
     "height": 226
    },
    "executionInfo": {
     "elapsed": 570,
     "status": "ok",
     "timestamp": 1623264539542,
     "user": {
      "displayName": "Martin Hoffmann Petersen",
      "photoUrl": "https://lh3.googleusercontent.com/a-/AOh14Gi9DGHG-AJwhdPmNrl1IFsn5PHgYkx_BS6DNFF3wA=s64",
      "userId": "14505245154483485915"
     },
     "user_tz": -120
    },
    "id": "cmzymgG8Gdsv",
    "outputId": "bc4f37ec-2a09-40bc-fa85-abb69979dec4"
   },
   "outputs": [
    {
     "data": {
      "image/png": "[encoded data removed]",
      "text/plain": [
       "<Figure size 1152x288 with 3 Axes>"
      ]
     },
     "metadata": {
      "needs_background": "light",
      "tags": []
     },
     "output_type": "display_data"
    }
   ],
   "source": [
    "fig, ax = plt.subplots(nrows=1, ncols=3, figsize=(16,4))\n",
    "ax[0].hist(np.argmax(train_labels, axis=1).flatten()); ax[0].set_title('train', fontsize=18); ax[0].set_xticks(np.arange(num_classes)); ax[0].tick_params(axis='both', which='major', labelsize=16);\n",
    "ax[1].hist(np.argmax(val_labels, axis=1).flatten()); ax[1].set_title('validation', fontsize=18); ax[1].set_xticks(np.arange(num_classes)); ax[1].tick_params(axis='both', which='major', labelsize=16);\n",
    "ax[2].hist(np.argmax(test_labels, axis=1).flatten()); ax[2].set_title('test', fontsize=18); ax[2].set_xticks(np.arange(num_classes)); ax[2].tick_params(axis='both', which='major', labelsize=16);\n",
    "plt.show()"
   ]
  },
  {
   "cell_type": "markdown",
   "metadata": {
    "id": "pNUmsrwHGdsw"
   },
   "source": [
    "### Create the CNN"
   ]
  },
  {
   "cell_type": "code",
   "execution_count": 11,
   "metadata": {
    "colab": {
     "base_uri": "https://localhost:8080/"
    },
    "executionInfo": {
     "elapsed": 3733,
     "status": "ok",
     "timestamp": 1623264543272,
     "user": {
      "displayName": "Martin Hoffmann Petersen",
      "photoUrl": "https://lh3.googleusercontent.com/a-/AOh14Gi9DGHG-AJwhdPmNrl1IFsn5PHgYkx_BS6DNFF3wA=s64",
      "userId": "14505245154483485915"
     },
     "user_tz": -120
    },
    "id": "eNgUbAlBGdsw",
    "outputId": "33ddbbe2-dfb8-4b3c-f9a1-7c00a996e932"
   },
   "outputs": [
    {
     "name": "stdout",
     "output_type": "stream",
     "text": [
      "Model: \"sequential\"\n",
      "_________________________________________________________________\n",
      "Layer (type)                 Output Shape              Param #   \n",
      "=================================================================\n",
      "conv2d (Conv2D)              (None, 256, 256, 32)      320       \n",
      "_________________________________________________________________\n",
      "max_pooling2d (MaxPooling2D) (None, 128, 128, 32)      0         \n",
      "_________________________________________________________________\n",
      "conv2d_1 (Conv2D)            (None, 128, 128, 64)      18496     \n",
      "_________________________________________________________________\n",
      "max_pooling2d_1 (MaxPooling2 (None, 64, 64, 64)        0         \n",
      "_________________________________________________________________\n",
      "dropout (Dropout)            (None, 64, 64, 64)        0         \n",
      "_________________________________________________________________\n",
      "flatten (Flatten)            (None, 262144)            0         \n",
      "_________________________________________________________________\n",
      "dense (Dense)                (None, 128)               33554560  \n",
      "_________________________________________________________________\n",
      "dense_1 (Dense)              (None, 3)                 387       \n",
      "=================================================================\n",
      "Total params: 33,573,763\n",
      "Trainable params: 33,573,763\n",
      "Non-trainable params: 0\n",
      "_________________________________________________________________\n"
     ]
    }
   ],
   "source": [
    "model = Sequential()\n",
    "# This layer creates a convolution kernel that is convolved with the layer input \n",
    "# to produce a tensor of outputs.\n",
    "# When using this l\n",
    "# Layer as the first layer in a model, provide the keyword argument\n",
    "# input_shape\n",
    "# Same in padding means zero padding evenly to left/right and up/down \n",
    "model.add(Conv2D(filters=32,\n",
    "                 kernel_size=3,\n",
    "                 strides=1,\n",
    "                 padding='same',\n",
    "                 activation='relu',\n",
    "                 input_shape=(img_rows, img_cols, 1)))\n",
    "# Downsamples the input along its spatial dimensions (height and width) by taking\n",
    "# the maximum value over an input window (of size defined by pool_size) for each\n",
    "# channel of the input. The window is shifted by strides along each dimension.\n",
    "model.add(MaxPooling2D(pool_size=2, strides=None))\n",
    "\n",
    "model.add(Conv2D(filters=64,\n",
    "                 kernel_size=3,\n",
    "                 strides=1,\n",
    "                 padding='same',\n",
    "                 activation='relu'))\n",
    "\n",
    "model.add(MaxPooling2D(pool_size=2, strides=None))\n",
    "\n",
    "model.add(Dropout(rate=0.40))\n",
    "\n",
    "model.add(Flatten())\n",
    "\n",
    "\n",
    "\n",
    "model.add(Dense(units=128, activation='relu'))\n",
    "\n",
    "model.add(Dense(units=num_classes, activation='softmax'))\n",
    "\n",
    "model.summary()"
   ]
  },
  {
   "cell_type": "code",
   "execution_count": 12,
   "metadata": {
    "colab": {
     "base_uri": "https://localhost:8080/"
    },
    "executionInfo": {
     "elapsed": 96882,
     "status": "ok",
     "timestamp": 1623264641042,
     "user": {
      "displayName": "Martin Hoffmann Petersen",
      "photoUrl": "https://lh3.googleusercontent.com/a-/AOh14Gi9DGHG-AJwhdPmNrl1IFsn5PHgYkx_BS6DNFF3wA=s64",
      "userId": "14505245154483485915"
     },
     "user_tz": -120
    },
    "id": "QvFCKzIMGdsw",
    "outputId": "b6c93f79-7890-4d75-f998-f9571223f2b6"
   },
   "outputs": [
    {
     "name": "stdout",
     "output_type": "stream",
     "text": [
      "81/81 [==============================] - 54s 123ms/step - loss: 0.6705 - categorical_accuracy: 0.6872 - val_loss: 0.3916 - val_categorical_accuracy: 0.8627\n"
     ]
    }
   ],
   "source": [
    "# specify optimization strategy and metric used for monitoring during training\n",
    "model.compile(loss=categorical_crossentropy,\n",
    "              optimizer=tf.keras.optimizers.Adam(learning_rate= 0.00001),\n",
    "              metrics=['categorical_accuracy'])\n",
    "\n",
    "# the history object will contain a record of loss and metric values during training\n",
    "history = model.fit(train_images, train_labels,\n",
    "                    batch_size=64,\n",
    "                    epochs=1,\n",
    "                    verbose=1,\n",
    "                    validation_data=(val_images, val_labels))\n",
    "\n",
    "model.save('model.h5')"
   ]
  },
  {
   "cell_type": "markdown",
   "metadata": {
    "id": "eCZgkHBaGdsx"
   },
   "source": [
    "### Evaluate training process"
   ]
  },
  {
   "cell_type": "code",
   "execution_count": null,
   "metadata": {
    "id": "XZCAAkRVGdsx"
   },
   "outputs": [],
   "source": [
    "# evaluating model using all data (not in batches)\n",
    "val_loss, val_acc = model.evaluate(val_images, val_labels, verbose=2)\n",
    "\n",
    "fig,ax = plt.subplots(nrows=2,ncols=1,figsize=(12,12))\n",
    "fs_L, fs_M, fs_S = 18, 16, 14\n",
    "ax[0].plot(history.history['categorical_accuracy'], label='train')\n",
    "ax[0].plot(history.history['val_categorical_accuracy'], label='validation')\n",
    "ax[0].set_xlabel('Epoch', fontsize=fs_M)\n",
    "ax[0].set_ylabel('Accuracy', fontsize=fs_M)\n",
    "ax[0].tick_params(axis='both', which='major', labelsize=fs_S)\n",
    "ax[0].set_title('Final mean validation accuracy: {}'.format(val_acc), fontsize=fs_M)\n",
    "ax[0].set_xticks(range(0,5))\n",
    "ax[0].legend(loc='lower right', fontsize=fs_M)\n",
    "\n",
    "ax[1].plot(history.history['loss'], label='train')\n",
    "ax[1].plot(history.history['val_loss'], label='validation')\n",
    "ax[1].set_xlabel('Epoch', fontsize=fs_M)\n",
    "ax[1].set_ylabel('Loss', fontsize=fs_M)\n",
    "ax[1].tick_params(axis='both', which='major', labelsize=fs_S)\n",
    "ax[1].set_xticks(range(0,5))\n",
    "ax[1].legend(loc='upper right', fontsize=fs_M)\n",
    "\n",
    "plt.show()"
   ]
  },
  {
   "cell_type": "code",
   "execution_count": null,
   "metadata": {
    "id": "ZBG1A0Q2Gdsy"
   },
   "outputs": [],
   "source": [
    "ypred_test = model.predict(test_images)\n",
    "ypred_train = model.predict(train_images)"
   ]
  },
  {
   "cell_type": "code",
   "execution_count": null,
   "metadata": {
    "id": "sSR4acAFGdsy"
   },
   "outputs": [],
   "source": [
    "# Plotting the ROC curve, to test for overtaining and preformance\n",
    "title = ['Ash','Pollen','Dust']\n",
    "fig1, ax1 = plt.subplots(figsize=(10,30), nrows=3)\n",
    "\n",
    "for i in range(num_classes):\n",
    "    fpr,tpr, threshold =sklearn.metrics.roc_curve(test_labels[:,i],ypred_test[:,i])\n",
    "    ax1[i].plot(fpr,tpr,'b', label='Test: ROC curve')\n",
    "\n",
    "    fpr_train,tpr_train, threshold_train =sklearn.metrics.roc_curve(train_labels[:,i],ypred_train[:,i])\n",
    "    ax1[i].plot(fpr_train,tpr_train,'r', label='Train: ROC curve')\n",
    "    ax1[i].plot(np.linspace(0,1,100),np.linspace(0,1,100),'g', label='1:1 curve')\n",
    "    ax1[i].set(xlabel='False positive rate',ylabel='True postive rate',title=title[i])\n",
    "    ax1[i].legend()\n",
    "\n",
    "\n",
    "    # The AUC and accuracy is computed and printed in the figure\n",
    "    auc_score_train = auc(fpr_train,tpr_train)   \n",
    "    auc_score_test = auc(fpr,tpr)   \n",
    "\n",
    "    acc_score_train = accuracy_score(train_labels[:,i],np.where(ypred_train[:,i] > 0.5, 1, 0))\n",
    "    acc_score_test = accuracy_score(test_labels[:,i],np.where(ypred_test[:,i] > 0.5, 1, 0))\n",
    "\n",
    "    row_labels=['Test',\n",
    "            'Train']\n",
    "    table_vals=[[round(auc_score_test,5),round(acc_score_test,5)],\n",
    "            [round(auc_score_train,5),round(acc_score_train,5)]]\n",
    "    col_labels=['AUC','Accuracy']\n",
    "    the_table = ax1[i].table(cellText=table_vals,\n",
    "                  colWidths = [0.2]*3,\n",
    "                  rowLabels=row_labels,\n",
    "                  colLabels=col_labels,\n",
    "                  loc='center right')"
   ]
  },
  {
   "cell_type": "markdown",
   "metadata": {
    "id": "2rZJsBkfGdsy"
   },
   "source": [
    "### Inference"
   ]
  },
  {
   "cell_type": "code",
   "execution_count": null,
   "metadata": {
    "id": "UPksUd9rGdsy"
   },
   "outputs": [],
   "source": [
    "conf_matrix = tf.math.confusion_matrix(labels=np.argmax(test_labels, axis=1),\n",
    "                                       predictions=np.argmax(ypred_test, axis = 1),\n",
    "                                       num_classes=num_classes)\n",
    "print('Confusion Matrix: ', conf_matrix)\n",
    "\n",
    "# Original code:\n",
    "#sess = tf.compat.v1.InteractiveSession()\n",
    "#conf_matrix = confusion.eval(session=sess)     # Needs update to new TF...\n",
    "#sess.close()\n",
    "\n",
    "# Accuracy score for inference\n",
    "error_rate = (np.sum(conf_matrix)-np.sum(np.diag(conf_matrix))) / np.sum(np.diag(conf_matrix))\n",
    "inf_acc = 1-error_rate\n",
    "print(error_rate)\n",
    "print(inf_acc)"
   ]
  },
  {
   "cell_type": "code",
   "execution_count": null,
   "metadata": {
    "id": "lzC5dYhyGdsy"
   },
   "outputs": [],
   "source": [
    "plt.figure(figsize=(10,5))\n",
    "ax = sns.heatmap(conf_matrix, annot=True, annot_kws={\"size\": 16}, fmt=\"d\", linewidths=.5, square=True, cbar=False, cmap='Greens')\n",
    "ax.invert_yaxis()\n",
    "plt.ylabel('Actual label', fontsize=16)\n",
    "plt.xlabel('Predicted label', fontsize=16)\n",
    "plt.xticks(fontsize=14); plt.yticks(fontsize=14)\n",
    "plt.title('Accuracy Score: {:.4f}'.format(inf_acc), fontsize=16)\n",
    "plt.show()\n",
    "\n",
    "print('Correct: {0}/{1}'.format(np.sum(np.diag(conf_matrix)),np.sum(conf_matrix)))\n",
    "print('Wrong: {0}/{1}'.format((np.sum(conf_matrix)-np.sum(np.diag(conf_matrix))),np.sum(conf_matrix)))"
   ]
  },
  {
   "cell_type": "markdown",
   "metadata": {
    "id": "bnqB3A03Gdsz"
   },
   "source": [
    "### Inspection of predictions"
   ]
  },
  {
   "cell_type": "markdown",
   "metadata": {
    "id": "cYu3pXHJGdsz"
   },
   "source": [
    "##### Correctly predicted images"
   ]
  },
  {
   "cell_type": "code",
   "execution_count": null,
   "metadata": {
    "id": "x0RpfZQfGdsz"
   },
   "outputs": [],
   "source": [
    "# show first 10 images that were correctly predicted\n",
    "correct_idx = np.where(np.argmax(ypred_test, axis = 1) == np.argmax(test_labels, axis=1))[0]\n",
    "\n",
    "fig, axs = plt.subplots(2,5, figsize=(15, 7))\n",
    "axs = axs.ravel()\n",
    "for i in range(10):\n",
    "    axs[i].imshow(test_images[correct_idx[i],:,:,0], cmap=plt.cm.binary)\n",
    "    axs[i].set_title('predicted: {} \\n actual: {}'.format(np.argmax(ypred_test, axis = 1)[correct_idx[i]], np.argmax(test_labels, axis=1)[correct_idx[i]]), fontsize=18)\n",
    "    axs[i].set_xticks([]); axs[i].set_yticks([]); axs[i].grid(False)"
   ]
  },
  {
   "cell_type": "markdown",
   "metadata": {
    "id": "ABunLmxCGdsz"
   },
   "source": [
    "##### Wrongly predicted images"
   ]
  },
  {
   "cell_type": "code",
   "execution_count": null,
   "metadata": {
    "id": "4IcQ1kDWGdsz"
   },
   "outputs": [],
   "source": [
    "# Show first 10 images that were wrongly predicted:\n",
    "wrong_idx = np.where(np.argmax(ypred_test, axis = 1) != np.argmax(test_labels, axis=1))[0]\n",
    "\n",
    "fig, axs = plt.subplots(2,5, figsize=(15, 7))\n",
    "axs = axs.ravel()\n",
    "for i in range(10):\n",
    "    axs[i].imshow(test_images[wrong_idx[i],:,:,0], cmap=plt.cm.binary)\n",
    "    axs[i].set_title('predicted: {} \\n actual: {}'.format(np.argmax(ypred_test, axis = 1)[wrong_idx[i]], np.argmax(test_labels, axis=1)[wrong_idx[i]]), fontsize=18)\n",
    "    axs[i].set_xticks([]); axs[i].set_yticks([]); axs[i].grid(False)"
   ]
  },
  {
   "cell_type": "markdown",
   "metadata": {
    "id": "eOA5WK9Mzyqw"
   },
   "source": [
    "### Predict real data "
   ]
  },
  {
   "cell_type": "code",
   "execution_count": null,
   "metadata": {
    "id": "8zpwU2S2z4zg"
   },
   "outputs": [],
   "source": [
    "model.save('CNN-type3')"
   ]
  },
  {
   "cell_type": "markdown",
   "metadata": {
    "id": "f48_9-1Svztl"
   },
   "source": [
    "### Baysian optimization"
   ]
  },
  {
   "cell_type": "code",
   "execution_count": null,
   "metadata": {
    "id": "oIoj9wFrvzSg"
   },
   "outputs": [],
   "source": [
    "# Setting the model for baysian optimization\n",
    "\n",
    "def create_model(filter_1=32,filter_2=64,drop_out = 0.40,nn1=128,nn2=200,lr=0.001 ):\n",
    "  model = Sequential()\n",
    "  model.add(Conv2D(filters=filter_1,\n",
    "                 kernel_size=3,\n",
    "                 strides=1,\n",
    "                 padding='same',\n",
    "                 activation='relu',\n",
    "                 input_shape=(img_rows, img_cols, 1)))\n",
    "  model.add(MaxPooling2D(pool_size=2, strides=None))\n",
    "\n",
    "  model.add(Conv2D(filters=filter_2,\n",
    "                 kernel_size=3,\n",
    "                 strides=1,\n",
    "                 padding='same',\n",
    "                 activation='relu'))\n",
    "  model.add(MaxPooling2D(pool_size=2, strides=None))\n",
    "\n",
    "  model.add(Dropout(rate=drop_out))\n",
    "\n",
    "  model.add(Flatten())\n",
    "\n",
    "\n",
    "\n",
    "  model.add(Dense(units=nn1, activation='relu'))\n",
    "  model.add(Dense(units=nn2, activation='relu'))\n",
    "\n",
    "  model.add(Dense(units=num_classes, activation='softmax'))\n",
    "  model.compile(loss=categorical_crossentropy,\n",
    "              optimizer=tf.keras.optimizers.Adam(learning_rate= lr),\n",
    "              metrics=['categorical_accuracy'])    \n",
    "  return model\n",
    "\n",
    "# Setting up the optimization network used by the baysian optimization\n",
    "def optimize_network(data,targets,data_val,targets_val,\\\n",
    "                    filter_1,filter_2,drop_out,nn1,nn2,lr):\n",
    "    \n",
    "    #Create the model using the specified hyperparameters.\n",
    "    model = create_model(filter_1,filter_2,drop_out,nn1,nn2,lr)\n",
    "    \n",
    "    # Train the model with the train dataset.\n",
    "    model.fit(data, targets, validation_data=(data_val, targets_val),\n",
    "                    batch_size=64,\n",
    "                    epochs=10)\n",
    "\n",
    "    # Evaluate the model \n",
    "    score = model.evaluate(data_val, targets_val)\n",
    "    print('Test loss:', score[0])\n",
    "    print('Test categorical accuracy:', score[1])\n",
    "\n",
    "    # Return the accuracy.\n",
    "\n",
    "    return -1*score[0]"
   ]
  },
  {
   "cell_type": "code",
   "execution_count": null,
   "metadata": {
    "colab": {
     "base_uri": "https://localhost:8080/",
     "height": 512
    },
    "executionInfo": {
     "elapsed": 30962,
     "status": "error",
     "timestamp": 1623054151142,
     "user": {
      "displayName": "Martin Hoffmann Petersen",
      "photoUrl": "https://lh3.googleusercontent.com/a-/AOh14Gi9DGHG-AJwhdPmNrl1IFsn5PHgYkx_BS6DNFF3wA=s64",
      "userId": "14505245154483485915"
     },
     "user_tz": -120
    },
    "id": "tUJSzWl0xQhR",
    "outputId": "5fc04d55-0f8f-4afe-8110-c83513aa0369"
   },
   "outputs": [
    {
     "name": "stdout",
     "output_type": "stream",
     "text": [
      "|   iter    |  target   | drop_out  | filter_1  | filter_2  |    lr     |    nn1    |    nn2    |\n",
      "-------------------------------------------------------------------------------------------------\n",
      "Epoch 1/10\n",
      "81/81 [==============================] - ETA: 0s - loss: 0.7871 - categorical_accuracy: 0.6959"
     ]
    },
    {
     "ename": "KeyboardInterrupt",
     "evalue": "ignored",
     "output_type": "error",
     "traceback": [
      "\u001b[0;31m---------------------------------------------------------------------------\u001b[0m",
      "\u001b[0;31mKeyError\u001b[0m                                  Traceback (most recent call last)",
      "\u001b[0;32m/usr/local/lib/python3.7/dist-packages/bayes_opt/target_space.py\u001b[0m in \u001b[0;36mprobe\u001b[0;34m(self, params)\u001b[0m\n\u001b[1;32m    190\u001b[0m         \u001b[0;32mtry\u001b[0m\u001b[0;34m:\u001b[0m\u001b[0;34m\u001b[0m\u001b[0;34m\u001b[0m\u001b[0m\n\u001b[0;32m--> 191\u001b[0;31m             \u001b[0mtarget\u001b[0m \u001b[0;34m=\u001b[0m \u001b[0mself\u001b[0m\u001b[0;34m.\u001b[0m\u001b[0m_cache\u001b[0m\u001b[0;34m[\u001b[0m\u001b[0m_hashable\u001b[0m\u001b[0;34m(\u001b[0m\u001b[0mx\u001b[0m\u001b[0;34m)\u001b[0m\u001b[0;34m]\u001b[0m\u001b[0;34m\u001b[0m\u001b[0;34m\u001b[0m\u001b[0m\n\u001b[0m\u001b[1;32m    192\u001b[0m         \u001b[0;32mexcept\u001b[0m \u001b[0mKeyError\u001b[0m\u001b[0;34m:\u001b[0m\u001b[0;34m\u001b[0m\u001b[0;34m\u001b[0m\u001b[0m\n",
      "\u001b[0;31mKeyError\u001b[0m: (0.3668088018810296, 80.42271454095106, 100.01143748173449, 0.000303030240059208, 138.56642413883213, 209.2338594768798)",
      "\nDuring handling of the above exception, another exception occurred:\n",
      "\u001b[0;31mKeyboardInterrupt\u001b[0m                         Traceback (most recent call last)",
      "\u001b[0;32m<ipython-input-21-19c66b45e97c>\u001b[0m in \u001b[0;36m<module>\u001b[0;34m()\u001b[0m\n\u001b[1;32m     19\u001b[0m \u001b[0;31m# Preform the baysian optimization\u001b[0m\u001b[0;34m\u001b[0m\u001b[0;34m\u001b[0m\u001b[0;34m\u001b[0m\u001b[0m\n\u001b[1;32m     20\u001b[0m \u001b[0mstart_time\u001b[0m \u001b[0;34m=\u001b[0m \u001b[0mtime\u001b[0m\u001b[0;34m.\u001b[0m\u001b[0mtime\u001b[0m\u001b[0;34m(\u001b[0m\u001b[0;34m)\u001b[0m\u001b[0;34m\u001b[0m\u001b[0;34m\u001b[0m\u001b[0m\n\u001b[0;32m---> 21\u001b[0;31m \u001b[0moptimizer\u001b[0m\u001b[0;34m.\u001b[0m\u001b[0mmaximize\u001b[0m\u001b[0;34m(\u001b[0m\u001b[0minit_points\u001b[0m\u001b[0;34m=\u001b[0m\u001b[0;36m5\u001b[0m\u001b[0;34m,\u001b[0m \u001b[0mn_iter\u001b[0m\u001b[0;34m=\u001b[0m\u001b[0;36m15\u001b[0m\u001b[0;34m,\u001b[0m\u001b[0;34m)\u001b[0m\u001b[0;34m\u001b[0m\u001b[0;34m\u001b[0m\u001b[0m\n\u001b[0m\u001b[1;32m     22\u001b[0m \u001b[0mtime_took\u001b[0m \u001b[0;34m=\u001b[0m \u001b[0mtime\u001b[0m\u001b[0;34m.\u001b[0m\u001b[0mtime\u001b[0m\u001b[0;34m(\u001b[0m\u001b[0;34m)\u001b[0m \u001b[0;34m-\u001b[0m \u001b[0mstart_time\u001b[0m\u001b[0;34m\u001b[0m\u001b[0;34m\u001b[0m\u001b[0m\n\u001b[1;32m     23\u001b[0m \u001b[0;34m\u001b[0m\u001b[0m\n",
      "\u001b[0;32m/usr/local/lib/python3.7/dist-packages/bayes_opt/bayesian_optimization.py\u001b[0m in \u001b[0;36mmaximize\u001b[0;34m(self, init_points, n_iter, acq, kappa, kappa_decay, kappa_decay_delay, xi, **gp_params)\u001b[0m\n\u001b[1;32m    183\u001b[0m                 \u001b[0miteration\u001b[0m \u001b[0;34m+=\u001b[0m \u001b[0;36m1\u001b[0m\u001b[0;34m\u001b[0m\u001b[0;34m\u001b[0m\u001b[0m\n\u001b[1;32m    184\u001b[0m \u001b[0;34m\u001b[0m\u001b[0m\n\u001b[0;32m--> 185\u001b[0;31m             \u001b[0mself\u001b[0m\u001b[0;34m.\u001b[0m\u001b[0mprobe\u001b[0m\u001b[0;34m(\u001b[0m\u001b[0mx_probe\u001b[0m\u001b[0;34m,\u001b[0m \u001b[0mlazy\u001b[0m\u001b[0;34m=\u001b[0m\u001b[0;32mFalse\u001b[0m\u001b[0;34m)\u001b[0m\u001b[0;34m\u001b[0m\u001b[0;34m\u001b[0m\u001b[0m\n\u001b[0m\u001b[1;32m    186\u001b[0m \u001b[0;34m\u001b[0m\u001b[0m\n\u001b[1;32m    187\u001b[0m             \u001b[0;32mif\u001b[0m \u001b[0mself\u001b[0m\u001b[0;34m.\u001b[0m\u001b[0m_bounds_transformer\u001b[0m\u001b[0;34m:\u001b[0m\u001b[0;34m\u001b[0m\u001b[0;34m\u001b[0m\u001b[0m\n",
      "\u001b[0;32m/usr/local/lib/python3.7/dist-packages/bayes_opt/bayesian_optimization.py\u001b[0m in \u001b[0;36mprobe\u001b[0;34m(self, params, lazy)\u001b[0m\n\u001b[1;32m    114\u001b[0m             \u001b[0mself\u001b[0m\u001b[0;34m.\u001b[0m\u001b[0m_queue\u001b[0m\u001b[0;34m.\u001b[0m\u001b[0madd\u001b[0m\u001b[0;34m(\u001b[0m\u001b[0mparams\u001b[0m\u001b[0;34m)\u001b[0m\u001b[0;34m\u001b[0m\u001b[0;34m\u001b[0m\u001b[0m\n\u001b[1;32m    115\u001b[0m         \u001b[0;32melse\u001b[0m\u001b[0;34m:\u001b[0m\u001b[0;34m\u001b[0m\u001b[0;34m\u001b[0m\u001b[0m\n\u001b[0;32m--> 116\u001b[0;31m             \u001b[0mself\u001b[0m\u001b[0;34m.\u001b[0m\u001b[0m_space\u001b[0m\u001b[0;34m.\u001b[0m\u001b[0mprobe\u001b[0m\u001b[0;34m(\u001b[0m\u001b[0mparams\u001b[0m\u001b[0;34m)\u001b[0m\u001b[0;34m\u001b[0m\u001b[0;34m\u001b[0m\u001b[0m\n\u001b[0m\u001b[1;32m    117\u001b[0m             \u001b[0mself\u001b[0m\u001b[0;34m.\u001b[0m\u001b[0mdispatch\u001b[0m\u001b[0;34m(\u001b[0m\u001b[0mEvents\u001b[0m\u001b[0;34m.\u001b[0m\u001b[0mOPTIMIZATION_STEP\u001b[0m\u001b[0;34m)\u001b[0m\u001b[0;34m\u001b[0m\u001b[0;34m\u001b[0m\u001b[0m\n\u001b[1;32m    118\u001b[0m \u001b[0;34m\u001b[0m\u001b[0m\n",
      "\u001b[0;32m/usr/local/lib/python3.7/dist-packages/bayes_opt/target_space.py\u001b[0m in \u001b[0;36mprobe\u001b[0;34m(self, params)\u001b[0m\n\u001b[1;32m    192\u001b[0m         \u001b[0;32mexcept\u001b[0m \u001b[0mKeyError\u001b[0m\u001b[0;34m:\u001b[0m\u001b[0;34m\u001b[0m\u001b[0;34m\u001b[0m\u001b[0m\n\u001b[1;32m    193\u001b[0m             \u001b[0mparams\u001b[0m \u001b[0;34m=\u001b[0m \u001b[0mdict\u001b[0m\u001b[0;34m(\u001b[0m\u001b[0mzip\u001b[0m\u001b[0;34m(\u001b[0m\u001b[0mself\u001b[0m\u001b[0;34m.\u001b[0m\u001b[0m_keys\u001b[0m\u001b[0;34m,\u001b[0m \u001b[0mx\u001b[0m\u001b[0;34m)\u001b[0m\u001b[0;34m)\u001b[0m\u001b[0;34m\u001b[0m\u001b[0;34m\u001b[0m\u001b[0m\n\u001b[0;32m--> 194\u001b[0;31m             \u001b[0mtarget\u001b[0m \u001b[0;34m=\u001b[0m \u001b[0mself\u001b[0m\u001b[0;34m.\u001b[0m\u001b[0mtarget_func\u001b[0m\u001b[0;34m(\u001b[0m\u001b[0;34m**\u001b[0m\u001b[0mparams\u001b[0m\u001b[0;34m)\u001b[0m\u001b[0;34m\u001b[0m\u001b[0;34m\u001b[0m\u001b[0m\n\u001b[0m\u001b[1;32m    195\u001b[0m             \u001b[0mself\u001b[0m\u001b[0;34m.\u001b[0m\u001b[0mregister\u001b[0m\u001b[0;34m(\u001b[0m\u001b[0mx\u001b[0m\u001b[0;34m,\u001b[0m \u001b[0mtarget\u001b[0m\u001b[0;34m)\u001b[0m\u001b[0;34m\u001b[0m\u001b[0;34m\u001b[0m\u001b[0m\n\u001b[1;32m    196\u001b[0m         \u001b[0;32mreturn\u001b[0m \u001b[0mtarget\u001b[0m\u001b[0;34m\u001b[0m\u001b[0;34m\u001b[0m\u001b[0m\n",
      "\u001b[0;32m<ipython-input-21-19c66b45e97c>\u001b[0m in \u001b[0;36m<lambda>\u001b[0;34m(filter_1, filter_2, drop_out, nn1, nn2, lr)\u001b[0m\n\u001b[1;32m      2\u001b[0m \u001b[0;31m# Set up the model, with the traning and validation data\u001b[0m\u001b[0;34m\u001b[0m\u001b[0;34m\u001b[0m\u001b[0;34m\u001b[0m\u001b[0m\n\u001b[1;32m      3\u001b[0m eval_network = lambda filter_1,filter_2,drop_out,nn1,nn2,lr: optimize_network(train_images,                    train_labels,val_images,val_labels,\n\u001b[0;32m----> 4\u001b[0;31m                     int(filter_1),int(filter_2),drop_out,int(nn1),int(nn2),lr) \n\u001b[0m\u001b[1;32m      5\u001b[0m \u001b[0;34m\u001b[0m\u001b[0m\n\u001b[1;32m      6\u001b[0m \u001b[0;31m# Bounded region of parameter space\u001b[0m\u001b[0;34m\u001b[0m\u001b[0;34m\u001b[0m\u001b[0;34m\u001b[0m\u001b[0m\n",
      "\u001b[0;32m<ipython-input-20-45ab674051ee>\u001b[0m in \u001b[0;36moptimize_network\u001b[0;34m(data, targets, data_val, targets_val, filter_1, filter_2, drop_out, nn1, nn2, lr)\u001b[0m\n\u001b[1;32m     43\u001b[0m     model.fit(data, targets, validation_data=(data_val, targets_val),\n\u001b[1;32m     44\u001b[0m                     \u001b[0mbatch_size\u001b[0m\u001b[0;34m=\u001b[0m\u001b[0;36m64\u001b[0m\u001b[0;34m,\u001b[0m\u001b[0;34m\u001b[0m\u001b[0;34m\u001b[0m\u001b[0m\n\u001b[0;32m---> 45\u001b[0;31m                     epochs=10)\n\u001b[0m\u001b[1;32m     46\u001b[0m \u001b[0;34m\u001b[0m\u001b[0m\n\u001b[1;32m     47\u001b[0m     \u001b[0;31m# Evaluate the model\u001b[0m\u001b[0;34m\u001b[0m\u001b[0;34m\u001b[0m\u001b[0;34m\u001b[0m\u001b[0m\n",
      "\u001b[0;32m/usr/local/lib/python3.7/dist-packages/keras/engine/training.py\u001b[0m in \u001b[0;36mfit\u001b[0;34m(self, x, y, batch_size, epochs, verbose, callbacks, validation_split, validation_data, shuffle, class_weight, sample_weight, initial_epoch, steps_per_epoch, validation_steps, validation_batch_size, validation_freq, max_queue_size, workers, use_multiprocessing)\u001b[0m\n\u001b[1;32m   1198\u001b[0m               \u001b[0muse_multiprocessing\u001b[0m\u001b[0;34m=\u001b[0m\u001b[0muse_multiprocessing\u001b[0m\u001b[0;34m,\u001b[0m\u001b[0;34m\u001b[0m\u001b[0;34m\u001b[0m\u001b[0m\n\u001b[1;32m   1199\u001b[0m               \u001b[0mreturn_dict\u001b[0m\u001b[0;34m=\u001b[0m\u001b[0;32mTrue\u001b[0m\u001b[0;34m,\u001b[0m\u001b[0;34m\u001b[0m\u001b[0;34m\u001b[0m\u001b[0m\n\u001b[0;32m-> 1200\u001b[0;31m               _use_cached_eval_dataset=True)\n\u001b[0m\u001b[1;32m   1201\u001b[0m           \u001b[0mval_logs\u001b[0m \u001b[0;34m=\u001b[0m \u001b[0;34m{\u001b[0m\u001b[0;34m'val_'\u001b[0m \u001b[0;34m+\u001b[0m \u001b[0mname\u001b[0m\u001b[0;34m:\u001b[0m \u001b[0mval\u001b[0m \u001b[0;32mfor\u001b[0m \u001b[0mname\u001b[0m\u001b[0;34m,\u001b[0m \u001b[0mval\u001b[0m \u001b[0;32min\u001b[0m \u001b[0mval_logs\u001b[0m\u001b[0;34m.\u001b[0m\u001b[0mitems\u001b[0m\u001b[0;34m(\u001b[0m\u001b[0;34m)\u001b[0m\u001b[0;34m}\u001b[0m\u001b[0;34m\u001b[0m\u001b[0;34m\u001b[0m\u001b[0m\n\u001b[1;32m   1202\u001b[0m           \u001b[0mepoch_logs\u001b[0m\u001b[0;34m.\u001b[0m\u001b[0mupdate\u001b[0m\u001b[0;34m(\u001b[0m\u001b[0mval_logs\u001b[0m\u001b[0;34m)\u001b[0m\u001b[0;34m\u001b[0m\u001b[0;34m\u001b[0m\u001b[0m\n",
      "\u001b[0;32m/usr/local/lib/python3.7/dist-packages/keras/engine/training.py\u001b[0m in \u001b[0;36mevaluate\u001b[0;34m(self, x, y, batch_size, verbose, sample_weight, steps, callbacks, max_queue_size, workers, use_multiprocessing, return_dict, **kwargs)\u001b[0m\n\u001b[1;32m   1462\u001b[0m             \u001b[0;32mwith\u001b[0m \u001b[0mtf\u001b[0m\u001b[0;34m.\u001b[0m\u001b[0mprofiler\u001b[0m\u001b[0;34m.\u001b[0m\u001b[0mexperimental\u001b[0m\u001b[0;34m.\u001b[0m\u001b[0mTrace\u001b[0m\u001b[0;34m(\u001b[0m\u001b[0;34m'test'\u001b[0m\u001b[0;34m,\u001b[0m \u001b[0mstep_num\u001b[0m\u001b[0;34m=\u001b[0m\u001b[0mstep\u001b[0m\u001b[0;34m,\u001b[0m \u001b[0m_r\u001b[0m\u001b[0;34m=\u001b[0m\u001b[0;36m1\u001b[0m\u001b[0;34m)\u001b[0m\u001b[0;34m:\u001b[0m\u001b[0;34m\u001b[0m\u001b[0;34m\u001b[0m\u001b[0m\n\u001b[1;32m   1463\u001b[0m               \u001b[0mcallbacks\u001b[0m\u001b[0;34m.\u001b[0m\u001b[0mon_test_batch_begin\u001b[0m\u001b[0;34m(\u001b[0m\u001b[0mstep\u001b[0m\u001b[0;34m)\u001b[0m\u001b[0;34m\u001b[0m\u001b[0;34m\u001b[0m\u001b[0m\n\u001b[0;32m-> 1464\u001b[0;31m               \u001b[0mtmp_logs\u001b[0m \u001b[0;34m=\u001b[0m \u001b[0mself\u001b[0m\u001b[0;34m.\u001b[0m\u001b[0mtest_function\u001b[0m\u001b[0;34m(\u001b[0m\u001b[0miterator\u001b[0m\u001b[0;34m)\u001b[0m\u001b[0;34m\u001b[0m\u001b[0;34m\u001b[0m\u001b[0m\n\u001b[0m\u001b[1;32m   1465\u001b[0m               \u001b[0;32mif\u001b[0m \u001b[0mdata_handler\u001b[0m\u001b[0;34m.\u001b[0m\u001b[0mshould_sync\u001b[0m\u001b[0;34m:\u001b[0m\u001b[0;34m\u001b[0m\u001b[0;34m\u001b[0m\u001b[0m\n\u001b[1;32m   1466\u001b[0m                 \u001b[0mcontext\u001b[0m\u001b[0;34m.\u001b[0m\u001b[0masync_wait\u001b[0m\u001b[0;34m(\u001b[0m\u001b[0;34m)\u001b[0m\u001b[0;34m\u001b[0m\u001b[0;34m\u001b[0m\u001b[0m\n",
      "\u001b[0;32m/usr/local/lib/python3.7/dist-packages/tensorflow/python/eager/def_function.py\u001b[0m in \u001b[0;36m__call__\u001b[0;34m(self, *args, **kwds)\u001b[0m\n\u001b[1;32m    887\u001b[0m \u001b[0;34m\u001b[0m\u001b[0m\n\u001b[1;32m    888\u001b[0m       \u001b[0;32mwith\u001b[0m \u001b[0mOptionalXlaContext\u001b[0m\u001b[0;34m(\u001b[0m\u001b[0mself\u001b[0m\u001b[0;34m.\u001b[0m\u001b[0m_jit_compile\u001b[0m\u001b[0;34m)\u001b[0m\u001b[0;34m:\u001b[0m\u001b[0;34m\u001b[0m\u001b[0;34m\u001b[0m\u001b[0m\n\u001b[0;32m--> 889\u001b[0;31m         \u001b[0mresult\u001b[0m \u001b[0;34m=\u001b[0m \u001b[0mself\u001b[0m\u001b[0;34m.\u001b[0m\u001b[0m_call\u001b[0m\u001b[0;34m(\u001b[0m\u001b[0;34m*\u001b[0m\u001b[0margs\u001b[0m\u001b[0;34m,\u001b[0m \u001b[0;34m**\u001b[0m\u001b[0mkwds\u001b[0m\u001b[0;34m)\u001b[0m\u001b[0;34m\u001b[0m\u001b[0;34m\u001b[0m\u001b[0m\n\u001b[0m\u001b[1;32m    890\u001b[0m \u001b[0;34m\u001b[0m\u001b[0m\n\u001b[1;32m    891\u001b[0m       \u001b[0mnew_tracing_count\u001b[0m \u001b[0;34m=\u001b[0m \u001b[0mself\u001b[0m\u001b[0;34m.\u001b[0m\u001b[0mexperimental_get_tracing_count\u001b[0m\u001b[0;34m(\u001b[0m\u001b[0;34m)\u001b[0m\u001b[0;34m\u001b[0m\u001b[0;34m\u001b[0m\u001b[0m\n",
      "\u001b[0;32m/usr/local/lib/python3.7/dist-packages/tensorflow/python/eager/def_function.py\u001b[0m in \u001b[0;36m_call\u001b[0;34m(self, *args, **kwds)\u001b[0m\n\u001b[1;32m    922\u001b[0m       \u001b[0;31m# In this case we have not created variables on the first call. So we can\u001b[0m\u001b[0;34m\u001b[0m\u001b[0;34m\u001b[0m\u001b[0;34m\u001b[0m\u001b[0m\n\u001b[1;32m    923\u001b[0m       \u001b[0;31m# run the first trace but we should fail if variables are created.\u001b[0m\u001b[0;34m\u001b[0m\u001b[0;34m\u001b[0m\u001b[0;34m\u001b[0m\u001b[0m\n\u001b[0;32m--> 924\u001b[0;31m       \u001b[0mresults\u001b[0m \u001b[0;34m=\u001b[0m \u001b[0mself\u001b[0m\u001b[0;34m.\u001b[0m\u001b[0m_stateful_fn\u001b[0m\u001b[0;34m(\u001b[0m\u001b[0;34m*\u001b[0m\u001b[0margs\u001b[0m\u001b[0;34m,\u001b[0m \u001b[0;34m**\u001b[0m\u001b[0mkwds\u001b[0m\u001b[0;34m)\u001b[0m\u001b[0;34m\u001b[0m\u001b[0;34m\u001b[0m\u001b[0m\n\u001b[0m\u001b[1;32m    925\u001b[0m       \u001b[0;32mif\u001b[0m \u001b[0mself\u001b[0m\u001b[0;34m.\u001b[0m\u001b[0m_created_variables\u001b[0m\u001b[0;34m:\u001b[0m\u001b[0;34m\u001b[0m\u001b[0;34m\u001b[0m\u001b[0m\n\u001b[1;32m    926\u001b[0m         raise ValueError(\"Creating variables on a non-first call to a function\"\n",
      "\u001b[0;32m/usr/local/lib/python3.7/dist-packages/tensorflow/python/eager/function.py\u001b[0m in \u001b[0;36m__call__\u001b[0;34m(self, *args, **kwargs)\u001b[0m\n\u001b[1;32m   3022\u001b[0m        filtered_flat_args) = self._maybe_define_function(args, kwargs)\n\u001b[1;32m   3023\u001b[0m     return graph_function._call_flat(\n\u001b[0;32m-> 3024\u001b[0;31m         filtered_flat_args, captured_inputs=graph_function.captured_inputs)  # pylint: disable=protected-access\n\u001b[0m\u001b[1;32m   3025\u001b[0m \u001b[0;34m\u001b[0m\u001b[0m\n\u001b[1;32m   3026\u001b[0m   \u001b[0;34m@\u001b[0m\u001b[0mproperty\u001b[0m\u001b[0;34m\u001b[0m\u001b[0;34m\u001b[0m\u001b[0m\n",
      "\u001b[0;32m/usr/local/lib/python3.7/dist-packages/tensorflow/python/eager/function.py\u001b[0m in \u001b[0;36m_call_flat\u001b[0;34m(self, args, captured_inputs, cancellation_manager)\u001b[0m\n\u001b[1;32m   1959\u001b[0m       \u001b[0;31m# No tape is watching; skip to running the function.\u001b[0m\u001b[0;34m\u001b[0m\u001b[0;34m\u001b[0m\u001b[0;34m\u001b[0m\u001b[0m\n\u001b[1;32m   1960\u001b[0m       return self._build_call_outputs(self._inference_function.call(\n\u001b[0;32m-> 1961\u001b[0;31m           ctx, args, cancellation_manager=cancellation_manager))\n\u001b[0m\u001b[1;32m   1962\u001b[0m     forward_backward = self._select_forward_and_backward_functions(\n\u001b[1;32m   1963\u001b[0m         \u001b[0margs\u001b[0m\u001b[0;34m,\u001b[0m\u001b[0;34m\u001b[0m\u001b[0;34m\u001b[0m\u001b[0m\n",
      "\u001b[0;32m/usr/local/lib/python3.7/dist-packages/tensorflow/python/eager/function.py\u001b[0m in \u001b[0;36mcall\u001b[0;34m(self, ctx, args, cancellation_manager)\u001b[0m\n\u001b[1;32m    594\u001b[0m               \u001b[0minputs\u001b[0m\u001b[0;34m=\u001b[0m\u001b[0margs\u001b[0m\u001b[0;34m,\u001b[0m\u001b[0;34m\u001b[0m\u001b[0;34m\u001b[0m\u001b[0m\n\u001b[1;32m    595\u001b[0m               \u001b[0mattrs\u001b[0m\u001b[0;34m=\u001b[0m\u001b[0mattrs\u001b[0m\u001b[0;34m,\u001b[0m\u001b[0;34m\u001b[0m\u001b[0;34m\u001b[0m\u001b[0m\n\u001b[0;32m--> 596\u001b[0;31m               ctx=ctx)\n\u001b[0m\u001b[1;32m    597\u001b[0m         \u001b[0;32melse\u001b[0m\u001b[0;34m:\u001b[0m\u001b[0;34m\u001b[0m\u001b[0;34m\u001b[0m\u001b[0m\n\u001b[1;32m    598\u001b[0m           outputs = execute.execute_with_cancellation(\n",
      "\u001b[0;32m/usr/local/lib/python3.7/dist-packages/tensorflow/python/eager/execute.py\u001b[0m in \u001b[0;36mquick_execute\u001b[0;34m(op_name, num_outputs, inputs, attrs, ctx, name)\u001b[0m\n\u001b[1;32m     58\u001b[0m     \u001b[0mctx\u001b[0m\u001b[0;34m.\u001b[0m\u001b[0mensure_initialized\u001b[0m\u001b[0;34m(\u001b[0m\u001b[0;34m)\u001b[0m\u001b[0;34m\u001b[0m\u001b[0;34m\u001b[0m\u001b[0m\n\u001b[1;32m     59\u001b[0m     tensors = pywrap_tfe.TFE_Py_Execute(ctx._handle, device_name, op_name,\n\u001b[0;32m---> 60\u001b[0;31m                                         inputs, attrs, num_outputs)\n\u001b[0m\u001b[1;32m     61\u001b[0m   \u001b[0;32mexcept\u001b[0m \u001b[0mcore\u001b[0m\u001b[0;34m.\u001b[0m\u001b[0m_NotOkStatusException\u001b[0m \u001b[0;32mas\u001b[0m \u001b[0me\u001b[0m\u001b[0;34m:\u001b[0m\u001b[0;34m\u001b[0m\u001b[0;34m\u001b[0m\u001b[0m\n\u001b[1;32m     62\u001b[0m     \u001b[0;32mif\u001b[0m \u001b[0mname\u001b[0m \u001b[0;32mis\u001b[0m \u001b[0;32mnot\u001b[0m \u001b[0;32mNone\u001b[0m\u001b[0;34m:\u001b[0m\u001b[0;34m\u001b[0m\u001b[0;34m\u001b[0m\u001b[0m\n",
      "\u001b[0;31mKeyboardInterrupt\u001b[0m: "
     ]
    }
   ],
   "source": [
    "from bayes_opt import BayesianOptimization\n",
    "# Set up the model, with the traning and validation data \n",
    "eval_network = lambda filter_1,filter_2,drop_out,nn1,nn2,lr: optimize_network(train_images,\\\n",
    "                    train_labels,val_images,val_labels,\n",
    "                    int(filter_1),int(filter_2),drop_out,int(nn1),int(nn2),lr) \n",
    "\n",
    "# Bounded region of parameter space\n",
    "pbounds = {'filter_1': (30,100), 'filter_2':(100,200),\n",
    "           'drop_out':(0.2,0.6),'nn1': (128,200),'nn2': (200,300),'act':('r'),'lr':(1e-6,1e-3) }\n",
    "\n",
    "\n",
    "# Setup the baysian optimization\n",
    "optimizer = BayesianOptimization(\n",
    "    f=eval_network,\n",
    "    pbounds=pbounds,\n",
    "    verbose=1,  # verbose = 1 prints only when a maximum is observed, verbose = 0 is silent\n",
    "    random_state=1,\n",
    ")\n",
    "\n",
    "# Preform the baysian optimization\n",
    "start_time = time.time()\n",
    "optimizer.maximize(init_points=5, n_iter=15,)\n",
    "time_took = time.time() - start_time\n",
    "\n",
    "print(f\"Total runtime: {time_took}\")\n",
    "print(optimizer.max)"
   ]
  },
  {
   "cell_type": "code",
   "execution_count": null,
   "metadata": {
    "id": "h2xFW8-k82Xw"
   },
   "outputs": [],
   "source": [
    "# Setting up the found optimal parameters\n",
    "params_BO = optimizer.max['params']\n",
    "params_BO['nn1'] = int(params_BO['nn1'])\n",
    "params_BO['nn2'] = int(params_BO['nn2'])\n",
    "params_BO['filter_1'] = int(params_BO['filter_1'])\n",
    "params_BO['filter_2'] = int(params_BO['filter_2'])\n",
    "print(params_BO)\n"
   ]
  },
  {
   "cell_type": "code",
   "execution_count": null,
   "metadata": {
    "id": "EO5P-eh-9EnB"
   },
   "outputs": [],
   "source": [
    "# create the neural network using the found optimal hyper parameters\n",
    "model_BO = create_model(**params_BO)\n",
    "\n",
    "start=datetime.now()\n",
    "# Train the model using the traning and valdiation data set\n",
    "history_BO = model_BO.fit(train_images, train_labels,\n",
    "                    batch_size=62,\n",
    "                    epochs=60,\n",
    "                    verbose=1,\n",
    "                    validation_data=(val_images, val_labels))\n",
    "stop=datetime.now()\n",
    "execution_time_NN = stop-start\n",
    "print(execution_time_NN)"
   ]
  },
  {
   "cell_type": "code",
   "execution_count": null,
   "metadata": {
    "id": "aINusgS-9WXU"
   },
   "outputs": [],
   "source": [
    "# evaluating model using all data (not in batches)\n",
    "val_loss, val_acc = model_BO.evaluate(val_images, val_labels, verbose=2)\n",
    "\n",
    "fig,ax = plt.subplots(nrows=2,ncols=1,figsize=(12,12))\n",
    "fs_L, fs_M, fs_S = 18, 16, 14\n",
    "ax[0].plot(history_BO.history['categorical_accuracy'], label='train')\n",
    "ax[0].plot(history_BO.history['val_categorical_accuracy'], label='validation')\n",
    "ax[0].set_xlabel('Epoch', fontsize=fs_M)\n",
    "ax[0].set_ylabel('Accuracy', fontsize=fs_M)\n",
    "ax[0].tick_params(axis='both', which='major', labelsize=fs_S)\n",
    "ax[0].set_title('Final mean validation accuracy: {}'.format(val_acc), fontsize=fs_M)\n",
    "ax[0].set_xticks(range(0,5))\n",
    "ax[0].legend(loc='lower right', fontsize=fs_M)\n",
    "\n",
    "ax[1].plot(history_BO.history['loss'], label='train')\n",
    "ax[1].plot(history_BO.history['val_loss'], label='validation')\n",
    "ax[1].set_xlabel('Epoch', fontsize=fs_M)\n",
    "ax[1].set_ylabel('Loss', fontsize=fs_M)\n",
    "ax[1].tick_params(axis='both', which='major', labelsize=fs_S)\n",
    "ax[1].set_xticks(range(0,5))\n",
    "ax[1].legend(loc='upper right', fontsize=fs_M)\n",
    "\n",
    "plt.show()"
   ]
  },
  {
   "cell_type": "code",
   "execution_count": null,
   "metadata": {
    "id": "-AwvoFQi9jd9"
   },
   "outputs": [],
   "source": [
    "ypred_test = model_BO.predict(test_images)\n",
    "ypred_train = model_BO.predict(train_images)\n",
    "# Plotting the ROC curve, to test for overtaining and preformance\n",
    "title = ['Ash','Pollen','Dust']\n",
    "fig1, ax1 = plt.subplots(figsize=(10,30), nrows=3)\n",
    "\n",
    "for i in range(num_classes):\n",
    "    fpr,tpr, threshold =sklearn.metrics.roc_curve(test_labels[:,i],ypred_test[:,i])\n",
    "    ax1[i].plot(fpr,tpr,'b', label='Test: ROC curve')\n",
    "\n",
    "    fpr_train,tpr_train, threshold_train =sklearn.metrics.roc_curve(train_labels[:,i],ypred_train[:,i])\n",
    "    ax1[i].plot(fpr_train,tpr_train,'r', label='Train: ROC curve')\n",
    "    ax1[i].plot(np.linspace(0,1,100),np.linspace(0,1,100),'g', label='1:1 curve')\n",
    "    ax1[i].set(xlabel='False positive rate',ylabel='True postive rate',title=title[i])\n",
    "    ax1[i].legend()\n",
    "\n",
    "\n",
    "    # The AUC and accuracy is computed and printed in the figure\n",
    "    auc_score_train = auc(fpr_train,tpr_train)   \n",
    "    auc_score_test = auc(fpr,tpr)   \n",
    "\n",
    "    acc_score_train = accuracy_score(train_labels[:,i],np.where(ypred_train[:,i] > 0.5, 1, 0))\n",
    "    acc_score_test = accuracy_score(test_labels[:,i],np.where(ypred_test[:,i] > 0.5, 1, 0))\n",
    "\n",
    "    row_labels=['Test',\n",
    "            'Train']\n",
    "    table_vals=[[round(auc_score_test,5),round(acc_score_test,5)],\n",
    "            [round(auc_score_train,5),round(acc_score_train,5)]]\n",
    "    col_labels=['AUC','Accuracy']\n",
    "    the_table = ax1[i].table(cellText=table_vals,\n",
    "                  colWidths = [0.2]*3,\n",
    "                  rowLabels=row_labels,\n",
    "                  colLabels=col_labels,\n",
    "                  loc='center right')"
   ]
  },
  {
   "cell_type": "code",
   "execution_count": null,
   "metadata": {
    "id": "-mnP19BC9t57"
   },
   "outputs": [],
   "source": [
    "conf_matrix = tf.math.confusion_matrix(labels=np.argmax(test_labels, axis=1),\n",
    "                                       predictions=np.argmax(ypred_test, axis = 1),\n",
    "                                       num_classes=num_classes)\n",
    "print('Confusion Matrix: ', conf_matrix)\n",
    "\n",
    "# Original code:\n",
    "#sess = tf.compat.v1.InteractiveSession()\n",
    "#conf_matrix = confusion.eval(session=sess)     # Needs update to new TF...\n",
    "#sess.close()\n",
    "\n",
    "# Accuracy score for inference\n",
    "error_rate = (np.sum(conf_matrix)-np.sum(np.diag(conf_matrix))) / np.sum(np.diag(conf_matrix))\n",
    "inf_acc = 1-error_rate\n",
    "plt.figure(figsize=(10,5))\n",
    "ax = sns.heatmap(conf_matrix, annot=True, annot_kws={\"size\": 16}, fmt=\"d\", linewidths=.5, square=True, cbar=False, cmap='Greens')\n",
    "ax.invert_yaxis()\n",
    "plt.ylabel('Actual label', fontsize=16)\n",
    "plt.xlabel('Predicted label', fontsize=16)\n",
    "plt.xticks(fontsize=14); plt.yticks(fontsize=14)\n",
    "plt.title('Accuracy Score: {:.4f}'.format(inf_acc), fontsize=16)\n",
    "plt.show()\n",
    "\n",
    "print('Correct: {0}/{1}'.format(np.sum(np.diag(conf_matrix)),np.sum(conf_matrix)))\n",
    "print('Wrong: {0}/{1}'.format((np.sum(conf_matrix)-np.sum(np.diag(conf_matrix))),np.sum(conf_matrix)))"
   ]
  }
 ],
 "metadata": {
  "accelerator": "GPU",
  "colab": {
   "collapsed_sections": [],
   "name": "CNN_Martin_predict.ipynb",
   "provenance": []
  },
  "kernelspec": {
   "display_name": "Python 3",
   "language": "python",
   "name": "python3"
  },
  "language_info": {
   "codemirror_mode": {
    "name": "ipython",
    "version": 3
   },
   "file_extension": ".py",
   "mimetype": "text/x-python",
   "name": "python",
   "nbconvert_exporter": "python",
   "pygments_lexer": "ipython3",
   "version": "3.8.8"
  }
 },
 "nbformat": 4,
 "nbformat_minor": 1
}
